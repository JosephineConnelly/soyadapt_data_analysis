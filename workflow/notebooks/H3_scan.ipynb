{
 "cells": [
  {
   "attachments": {},
   "cell_type": "markdown",
   "metadata": {},
   "source": [
    "# 1. annotate vcf file\n",
    "\n",
    "the location of data on genomDK is\n",
    "/home/joco/faststorage/soyadapt_data_analysis_with_start_data/resources/start_data\n"
   ]
  },
  {
   "cell_type": "markdown",
   "metadata": {},
   "source": [
    "i will work with SNPeff on genomedk\n",
    "for this i will make a seperate projhect folder as the otherfolders are backups of the rest of my project from my laptop+github "
   ]
  },
  {
   "cell_type": "markdown",
   "metadata": {},
   "source": [
    "snpeff/\n",
    "   README.txt\n",
    "   resources/\n",
    "       README.txt\n",
    "       ...\n",
    "   steps/\n",
    "       README.txt\n",
    "       ...\n",
    "   results/\n",
    "       README.txt\n",
    "       ...\n",
    "   plots/\n",
    "       README.txt\n",
    "       ...\n",
    "   workflow/\n",
    "       README.txt\n",
    "       notebooks\n",
    "       envs\n",
    "         environment.yml"
   ]
  },
  {
   "cell_type": "markdown",
   "metadata": {},
   "source": [
    "\n",
    "conda activate\n",
    "\n",
    "conda create -n snpeffenv \n",
    "\n",
    "Download latest version\n",
    "wget https://snpeff.blob.core.windows.net/versions/snpEff_latest_core.zip\n",
    "\n",
    "Unzip file\n",
    "unzip snpEff_latest_core.zip\n",
    "\n",
    "i had to update to java 11 on the environment only\n",
    "\n"
   ]
  },
  {
   "cell_type": "code",
   "execution_count": null,
   "metadata": {
    "vscode": {
     "languageId": "shellscript"
    }
   },
   "outputs": [],
   "source": [
    "#conda install -c conda-forge openjdk=11\n",
    "java -version\n",
    "\n",
    "#local !!! You have to be in the unzipped /snpEff file to run the following command! !!\n",
    "\n",
    "#on genome dk go to \n",
    "cd /home/joco/miniconda3/pkgs/snpeff-5.1-hdfd78af_0/share/snpeff-5.1-0/\n",
    "#found its location after downlading via conda with\n",
    "# find / -name snpEff.jar 2>/dev/null\n",
    "\n",
    "java -jar snpEff.jar databases | grep -i glycine_max\n",
    "\n",
    "Glycine_max                                                 \tGlycine_max                                                 \t          \t                              \t[https://snpeff.blob.core.windows.net/databases/v5_1/snpEff_v5_1_Glycine_max.zip, https://snpeff.blob.core.windows.net/databases/v5_0/snpEff_v5_0_Glycine_max.zip]\n",
    "\n",
    " java -jar snpEff.jar download Glycine_max"
   ]
  },
  {
   "cell_type": "markdown",
   "metadata": {
    "vscode": {
     "languageId": "shellscript"
    }
   },
   "source": [
    "collect the files\n",
    "\n",
    "1. path to reference genome file (fasta) - the same as used for VCF construction\n",
    "\n",
    "2. path to Reference genome gene annotation (gff) :\n",
    "\n",
    "3. path to output directory\n",
    "\n",
    "4. path to vcf input\n",
    "5. the downloaded database data\n",
    "\n",
    "\n",
    "\n",
    "in genomeDK:\n",
    "1. ref=/home/joco/faststorage/snpeff_analysis/resources/Wm82.a2.v1.genome.fasta\n",
    "2. ann=/home/joco/faststorage/snpeff_analysis/resources/Glycine_max.Glycine_max_v2.1.56.chr.gff3.gz\n",
    "\n",
    "3. out=/home/joco/faststorage/snpeff_analysis/resources/generated_data/\n",
    "4. wgs_maf5=/home/joco/faststorage/snpeff_analysis/resources/start_data/wgs_maf5.vcf.gz\n",
    "5. snpeff_data=/home/joco/miniconda3/pkgs/snpeff-5.1-hdfd78af_0/share/snpeff-5.1-0/data/Glycine_max\n"
   ]
  },
  {
   "cell_type": "markdown",
   "metadata": {},
   "source": [
    "i checked to see if the chromsomes have the same name in my vcf file as the .fasta and .gff3\n",
    "\n",
    "\n",
    "\n",
    "zcat Glycine_max.Glycine_max_v2.1.56.chr.gff3.gz | cut -f1 | sort | uniq\n",
    "\n",
    "fasta file\n",
    "\n",
    "zcat your_file.fasta.gz | grep \"^>\" | cut -d \" \" -f 1 | sed 's/>//'\n",
    "\n",
    "so maybe not the same \n",
    "\n"
   ]
  },
  {
   "cell_type": "markdown",
   "metadata": {},
   "source": [
    "# Annotate snpeff with database"
   ]
  },
  {
   "cell_type": "code",
   "execution_count": 5,
   "metadata": {
    "vscode": {
     "languageId": "shellscript"
    }
   },
   "outputs": [
    {
     "ename": "SyntaxError",
     "evalue": "invalid syntax (841213456.py, line 1)",
     "output_type": "error",
     "traceback": [
      "\u001b[0;36m  File \u001b[0;32m\"/var/folders/1h/nb7x81q15l172nmf3p9pct640000gp/T/ipykernel_4330/841213456.py\"\u001b[0;36m, line \u001b[0;32m1\u001b[0m\n\u001b[0;31m    in:\u001b[0m\n\u001b[0m     ^\u001b[0m\n\u001b[0;31mSyntaxError\u001b[0m\u001b[0;31m:\u001b[0m invalid syntax\n"
     ]
    }
   ],
   "source": [
    "in:\n",
    "conda activate snpeffenv\n",
    "/home/joco/miniconda3/pkgs/snpeff-5.1-hdfd78af_0/share/snpeff-5.1-0/\n",
    "\n",
    "export wgs_maf5=/home/joco/miniconda3/pkgs/snpeff-5.1-hdfd78af_0/share/snpeff-5.1-0/data/wgs_maf5.vcf.gz\n",
    "\n",
    "java -Xmx8g -jar snpEff.jar -v Glycine_max  $wgs_maf5 > wgs_maf5.ann.vcf\n",
    "bgzip wgs_maf5.ann.vcf\n",
    "bcftools index wgs_maf5.ann.vcf.gz\n",
    "bcftools query -l wgs_maf5.ann.vcf.gz | sort -u | wc -l\n",
    "bcftools query -f '%CHROM\\n' wgs_maf5.ann.vcf.gz | sort -u\n",
    "\n",
    "####### im having a problem here. only 17 chromosomes included???\n",
    "1\n",
    "10\n",
    "11\n",
    "12\n",
    "13\n",
    "14\n",
    "15\n",
    "16\n",
    "17\n",
    "2\n",
    "3\n",
    "4\n",
    "5\n",
    "6\n",
    "7\n",
    "8\n",
    "9\n",
    "\n",
    "# i will make one more with stats!\n",
    "java -Xmx8g -jar snpEff.jar -v -stats ex1.html Glycine_max $wgs_maf5 > 2_wgs_maf5.ann.vcf\n",
    "bcftools query -l 2_wgs_maf5.ann.vcf.gz | sort -u | wc -l\n",
    "bgzip 2_wgs_maf5.ann.vcf\n",
    "bcftools index 2_wgs_maf5.ann.vcf.gz\n",
    "bcftools query -l 2_wgs_maf5.ann.vcf.gz | sort -u | wc -l\n",
    "#652\n",
    "#bcftools query -f '%CHROM\\n' wgs_maf5.vcf.gz | sort -u\n",
    "bcftools query -f '%CHROM\\t%POS\\t%INFO/ANN\\n' 2_wgs_maf5.ann.vcf.gz | \\\n",
    "awk -F '\\t' 'BEGIN {OFS=\"\\t\"} { split($3, annFields, \"|\"); print $1, $2, annFields[3], annFields[4], annFields[5], annFields[6], annFields[7] }' > 2_extracted_genes.txt\n",
    "\n",
    "\n",
    "\n",
    "\n",
    "\n"
   ]
  },
  {
   "cell_type": "markdown",
   "metadata": {},
   "source": []
  },
  {
   "cell_type": "code",
   "execution_count": null,
   "metadata": {
    "vscode": {
     "languageId": "shellscript"
    }
   },
   "outputs": [],
   "source": [
    "#great i now have a file:\n",
    "/home/joco/miniconda3/pkgs/snpeff-5.1-hdfd78af_0/share/snpeff-5.1-0/wgs_maf5.ann.vcf.gz\n",
    "\n"
   ]
  },
  {
   "cell_type": "markdown",
   "metadata": {},
   "source": [
    "i now want to compare the windows with differing values of signatures of selection in the list of genes against the rest of the genome\n",
    "\n",
    "i have obtained a gene list from soybase and filtered for flowering or cold tolerence genes"
   ]
  },
  {
   "cell_type": "code",
   "execution_count": null,
   "metadata": {
    "vscode": {
     "languageId": "shellscript"
    }
   },
   "outputs": [],
   "source": [
    "#I have the genes in a list one per line\n",
    "genes_cold_soybase\n",
    "genes_flowering_soybase\n",
    "#match? with snpeff"
   ]
  },
  {
   "cell_type": "markdown",
   "metadata": {},
   "source": [
    "\n",
    "so i need the Gene Coordinates: Obtain the genomic coordinates (start and end positions) of each gene in your gene list. "
   ]
  },
  {
   "cell_type": "code",
   "execution_count": null,
   "metadata": {
    "vscode": {
     "languageId": "shellscript"
    }
   },
   "outputs": [],
   "source": [
    "****\n",
    "#So i go to the genomedk \n",
    "turn on my conda env\n",
    "\n",
    "/home/joco/miniconda3/pkgs/snpeff-5.1-hdfd78af_0/share/snpeff-5.1-0/\n"
   ]
  },
  {
   "cell_type": "code",
   "execution_count": null,
   "metadata": {
    "vscode": {
     "languageId": "shellscript"
    }
   },
   "outputs": [],
   "source": [
    "java -jar snpEff.jar -classic -onlyProtein genes_cold_soybase.txt wgs_maf5.ann.vcf.gz > gene_locations.txt\n",
    "\n",
    "#not working\n",
    "\n",
    "java -jar snpEff.jar filter \"(ANN[*].GENEID = file('genes_cold_soybase.txt'))\" wgs_maf5.ann.vcf.gz > gene_filtered.vcf\n"
   ]
  },
  {
   "cell_type": "markdown",
   "metadata": {},
   "source": [
    "Calculate Average Signature Value: For each gene in your list, calculate the average value of signatures of selection across the windows that overlap with the gene's coordinates. You can write a script or use bioinformatics tools to do this.\n",
    "\n",
    "Calculate Average Value for Rest of Genome: Calculate the average value of signatures of selection for all the windows in the rest of the genome (i.e., excluding the windows that overlap with the genes in your list).\n",
    "\n",
    "Statistical Comparison: Perform a statistical comparison, such as a t-test or Wilcoxon rank-sum test, to determine if the average signature value in your gene list is significantly different from the average value in the rest of the genome.\n",
    "\n",
    "Multiple Testing Correction (Optional): If you are comparing against a large number of windows, consider applying multiple testing correction methods, such as Bonferroni or False Discovery Rate (FDR) correction, to account for the increased risk of false positives.\n",
    "\n",
    "Visualization: You can create visualizations to compare the average signature values between your gene list and the rest of the genome. Box plots, violin plots, or bar plots can be useful for this purpose."
   ]
  },
  {
   "cell_type": "markdown",
   "metadata": {},
   "source": [
    "bcftools view -h wgs_maf5.ann.vcf.gz   # View the VCF header\n",
    "#checked out the annotation format\n",
    "bcftools view wgs_maf5.ann.vcf.gz | less\n",
    "\n",
    "\n",
    "i have a list of genes to try out\n"
   ]
  },
  {
   "cell_type": "code",
   "execution_count": null,
   "metadata": {
    "vscode": {
     "languageId": "shellscript"
    }
   },
   "outputs": [],
   "source": [
    "# something java -jar snpEff.jar  floweringgenes > flowering_gene_positions.txt\n",
    "\n"
   ]
  },
  {
   "cell_type": "code",
   "execution_count": null,
   "metadata": {
    "vscode": {
     "languageId": "shellscript"
    }
   },
   "outputs": [],
   "source": [
    "bcftools query -f '%CHROM\\t%POS\\t%INFO/ANN\\n' wgs_maf5.ann.vcf.gz > output.txt\n",
    "#im looking at ANN\n",
    "bcftools query -f '%CHROM\\t%POS\\t%INFO/ANN\\n' wgs_maf5.ann.vcf.gz | \\\n",
    "awk -F '\\t' 'BEGIN {OFS=\"\\t\"} { split($3, annFields, \"|\"); print $1, $2, annFields[3], annFields[4], annFields[5], annFields[6], annFields[7] }' > output.txt\n",
    "\n",
    "# Each annotation in the ANN field includes several subfields, which are separated by vertical bars (|). The exact subfields and their order can vary based on the version of SnpEff and the reference genome used, but they generally include information like:\n",
    "\n",
    "    Allele: The alternative allele associated with the variant.\n",
    "    Annotation: The functional consequence of the variant, such as \"missense_variant,\" \"frameshift_variant,\" \"splice_acceptor_variant,\" etc.\n",
    "    Annotation Impact: The impact level of the variant, such as \"HIGH,\" \"MODERATE,\" or \"LOW,\" indicating the severity of the effect.\n",
    "    Gene Name: The name of the gene affected by the variant.\n",
    "    Gene ID: A unique identifier for the gene.\n",
    "    Feature Type: The type of feature affected by the variant, such as \"transcript,\" \"exon,\" etc.\n",
    "    Feature ID: A unique identifier for the feature.\n",
    "    Transcript BioType: The biotype of the transcript.\n",
    "    Rank / Total: The exon rank of the variant within the transcript, followed by the total number of exons.\n",
    "    HGVS cDNA: The variant's description at the cDNA level.\n",
    "    HGVS protein: The variant's description at the protein level.\n",
    "    cDNA Position / CDS Position / Protein Position: The positions of the variant within the cDNA, CDS (coding sequence), and protein sequences, respectively."
   ]
  },
  {
   "cell_type": "markdown",
   "metadata": {},
   "source": [
    "##SnpEffVersion=\"5.1 (build 2022-01-21 06:23), by Pablo Cingolani\"\n",
    "##SnpEffCmd=\"SnpEff  Glycine_max /home/joco/miniconda3/pkgs/snpeff-5.1-hdfd78af_0/share/snpeff-5.1-0/data/wgs_maf5.vcf.gz \"\n",
    "##INFO=<ID=ANN,Number=.,Type=String,Description=\"Functional annotations: 'Allele | Annotation | Annotation_Impact | Gene_Name | Gene_ID | Feature_Type | Feature_ID | Transcript_BioType | Rank | HGVS.c | HGVS.p | cDNA.pos / cDNA.length | CDS.pos / CDS.length | AA.pos / AA.length | Distance | ERRORS / WARNINGS / INFO'\">\n",
    "##INFO=<ID=LOF,Number=.,Type=String,Description=\"Predicted loss of function effects for this variant. Format: 'Gene_Name | Gene_ID | Number_of_transcripts_in_gene | Percent_of_transcripts_affected'\">\n",
    "##INFO=<ID=NMD,Number=.,Type=String,Description=\"Predicted nonsense mediated decay effects for this variant. Format: 'Gene_Name | Gene_ID | Number_of_transcripts_in_gene | Percent_of_transcripts_affected'\">\n",
    "\n",
    "1\t27\tG|intergenic_region|MODIFIER|CHR_START-GLYMA_01G000100|CHR_START-GLYMA_01G000100|intergenic_region|CHR_START-GLYMA_01G000100|||n.27A>G||||||\n",
    "so $4\n"
   ]
  },
  {
   "cell_type": "markdown",
   "metadata": {},
   "source": []
  },
  {
   "cell_type": "code",
   "execution_count": null,
   "metadata": {
    "vscode": {
     "languageId": "shellscript"
    }
   },
   "outputs": [],
   "source": [
    "##not working below"
   ]
  },
  {
   "cell_type": "code",
   "execution_count": null,
   "metadata": {
    "vscode": {
     "languageId": "shellscript"
    }
   },
   "outputs": [],
   "source": [
    "#i moved loval to \n",
    "/Users/josephinelovemachine/soyadapt_data_analysis_with_start_data/resources/generated_data"
   ]
  },
  {
   "cell_type": "code",
   "execution_count": null,
   "metadata": {
    "vscode": {
     "languageId": "shellscript"
    }
   },
   "outputs": [],
   "source": [
    " sed 's/|/\\t/g' output.txt | \\\n",
    "awk -F '\\t' 'BEGIN{OFS=FS}{gsub(\"-\", \" \", $4); gsub(\"-\", \" \", $5); gsub(\"-\", \" \", $6); gsub(\"-\", \" \", $7); print $1, $2, $4, $5, $6, $7}' | \\\n",
    "awk -F '\\t' '{print $1, $2, tolower($3), tolower($4), tolower($5), tolower($6)}' > extracted_genes.txt"
   ]
  },
  {
   "cell_type": "code",
   "execution_count": 1,
   "metadata": {
    "vscode": {
     "languageId": "shellscript"
    }
   },
   "outputs": [],
   "source": [
    "java -jar snpEff.jar -classic -onlyProtein gene_list.txt input.vcf > gene_locations.txt\n"
   ]
  },
  {
   "cell_type": "markdown",
   "metadata": {},
   "source": []
  },
  {
   "cell_type": "markdown",
   "metadata": {},
   "source": []
  },
  {
   "cell_type": "markdown",
   "metadata": {},
   "source": [
    "notes\n",
    "scans for quality\n",
    "stats?\n",
    "https://github.com/alexherbig/MultiVCFAnalyzer#usage"
   ]
  },
  {
   "cell_type": "markdown",
   "metadata": {},
   "source": []
  },
  {
   "cell_type": "markdown",
   "metadata": {},
   "source": [
    "grep -Ff extracted_genes.txt genes_cold_soybase.txt > 3.txt\n"
   ]
  },
  {
   "cell_type": "markdown",
   "metadata": {},
   "source": [
    "# try another way by just extracting from the gff file?"
   ]
  },
  {
   "cell_type": "markdown",
   "metadata": {},
   "source": [
    "@Genome Dk /home/joco/miniconda3/pkgs/snpeff-5.1-hdfd78af_0/share/snpeff-5.1-0/data/\n",
    "Glycine_max.Glycine_max_v2.1.56.chr.gff3.gz\n",
    "Conda activate snpeffenv\n",
    "bgzip -d Glycine_max.Glycine_max_v2.1.56.chr.gff3.gz\n",
    "\n",
    "cut -f 3 Glycine_max.Glycine_max_v2.1.56.chr.gff3 | sort -u"
   ]
  },
  {
   "cell_type": "code",
   "execution_count": null,
   "metadata": {
    "vscode": {
     "languageId": "shellscript"
    }
   },
   "outputs": [],
   "source": [
    "###\n",
    "biological_region\n",
    "CDS\n",
    "chromosome\n",
    "exon\n",
    "five_prime_UTR\n",
    "gene\n",
    "#!genebuild-last-updated 2018-08\n",
    "#!genome-build-accession GCA_000004515.4\n",
    "#!genome-build Joint Genome Institute Glycine_max_v2.1\n",
    "#!genome-date 2018-07\n",
    "#!genome-version Glycine_max_v2.1\n",
    "##gff-version 3\n",
    "lnc_RNA\n",
    "mRNA\n",
    "ncRNA\n",
    "ncRNA_gene\n",
    "pre_miRNA\n",
    "RNase_MRP_RNA\n",
    "rRNA\n",
    "##sequence-region   10 1 51566898\n",
    "##sequence-region   11 1 34766867\n",
    "##sequence-region   1 1 56831624\n",
    "##sequence-region   12 1 40091314\n",
    "##sequence-region   13 1 45874162\n",
    "##sequence-region   14 1 49042192\n",
    "##sequence-region   15 1 51756343\n",
    "##sequence-region   16 1 37887014\n",
    "##sequence-region   17 1 41641366\n",
    "##sequence-region   18 1 58018742\n",
    "##sequence-region   19 1 50746916\n",
    "##sequence-region   20 1 47904181\n",
    "##sequence-region   2 1 48577505\n",
    "##sequence-region   3 1 45779781\n",
    "##sequence-region   4 1 52389146\n",
    "##sequence-region   5 1 42234498\n",
    "##sequence-region   6 1 51416486\n",
    "##sequence-region   7 1 44630646\n",
    "##sequence-region   8 1 47837940\n",
    "##sequence-region   9 1 50189764\n",
    "snoRNA\n",
    "snRNA\n",
    "SRP_RNA\n",
    "three_prime_UTR\n",
    "tRNA"
   ]
  },
  {
   "cell_type": "code",
   "execution_count": 9,
   "metadata": {
    "vscode": {
     "languageId": "shellscript"
    }
   },
   "outputs": [
    {
     "ename": "SyntaxError",
     "evalue": "invalid syntax (311688914.py, line 1)",
     "output_type": "error",
     "traceback": [
      "\u001b[0;36m  File \u001b[0;32m\"/var/folders/1h/nb7x81q15l172nmf3p9pct640000gp/T/ipykernel_4330/311688914.py\"\u001b[0;36m, line \u001b[0;32m1\u001b[0m\n\u001b[0;31m    cut -f 3 Glycine_max.Glycine_max_v2.1.56.chr.gff3 | grep -E 'biological_region|CDS|chromosome|exon|gene' | sort -u\u001b[0m\n\u001b[0m           ^\u001b[0m\n\u001b[0;31mSyntaxError\u001b[0m\u001b[0;31m:\u001b[0m invalid syntax\n"
     ]
    }
   ],
   "source": [
    "cut -f 3 Glycine_max.Glycine_max_v2.1.56.chr.gff3 | grep -E 'biological_region|CDS|chromosome|exon|gene' | sort -u\n",
    "# extract\n",
    "\n",
    "awk -F '\\t' '$3 ~ /^(chromosome|gene)$/ { print $1, $4, $9 }' Glycine_max.Glycine_max_v2.1.56.chr.gff3 > extracted_info.txt\n",
    "# looks like this:\n",
    "#1 90289 ID=gene:GLYMA_01G000500;biotype=protein_coding;description=hypothetical protein;gene_id=GLYMA_01G000500\n",
    "#and want this:\n",
    "#1 90289 gene_id=GLYMA_01G000500\n",
    "#the this\n",
    "#1 90289 glyma_01g000500\n",
    "awk '{ match($0, /([0-9]+)\\s+([0-9]+).*gene_id=([^;]+)/, arr); print arr[1], arr[2], arr[3] }' extracted_info.txt > extracted_info1.txt\n",
    "awk '{ match($0, /([0-9]+)\\s+([0-9]+).*gene_id=([^;]+)/, arr); print arr[1], arr[2], tolower(arr[3]) }' extracted_info.txt > extracted_gff3.txt\n",
    "#moved to home dir"
   ]
  },
  {
   "cell_type": "markdown",
   "metadata": {},
   "source": []
  }
 ],
 "metadata": {
  "kernelspec": {
   "display_name": "ppp_env_x86",
   "language": "python",
   "name": "python3"
  },
  "language_info": {
   "codemirror_mode": {
    "name": "ipython",
    "version": 3
   },
   "file_extension": ".py",
   "mimetype": "text/x-python",
   "name": "python",
   "nbconvert_exporter": "python",
   "pygments_lexer": "ipython3",
   "version": "3.7.12"
  },
  "vscode": {
   "interpreter": {
    "hash": "fd125518df18430d0936e52ecb7291e22b91211acfd52c6d5373b9b07bdacec8"
   }
  }
 },
 "nbformat": 4,
 "nbformat_minor": 2
}
