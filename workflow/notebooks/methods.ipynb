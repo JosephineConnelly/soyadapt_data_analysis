{
 "cells": [
  {
   "cell_type": "markdown",
   "metadata": {},
   "source": [
    "# methods"
   ]
  },
  {
   "cell_type": "markdown",
   "metadata": {},
   "source": [
    "## set the scene\n",
    "\n",
    "## Data presentation\n",
    "*My data*\n",
    "\n",
    "*My data as i recived it*\n",
    "\n",
    "So what Torben did\n",
    "\n"
   ]
  },
  {
   "cell_type": "markdown",
   "metadata": {},
   "source": [
    "## 1. Setup Project\n",
    "\n",
    "To compile my data for data analysis i need to extract the snp data from the 10 known founders from the 20087 accessions in the data.\n",
    "I have a list of 10 founders (resources/start_data/founders.txt)\n",
    "i extracted the founders from the gringlobal 50ksnp data using bcftools\n",
    "The data file is downloaded from https://soybase.org/snps/\n",
    "soysnp50k_wm82.a2_41317.vcf.gz\n",
    "\n",
    "Using bcftools i renamed all the chromosomes to the same. (Gm01-Gm20)\n",
    "i made files only including data attached to the refrence chromosomes, so no scaffolds or mt data. "
   ]
  },
  {
   "cell_type": "markdown",
   "metadata": {},
   "source": [
    "## 2. Merge data for analysis\n",
    "\n",
    "intersect\n",
    "i intersected the data. \n",
    "So only keeping the 50kSNP data for all accessions\n",
    "\n",
    "## impute step not now\n",
    "*initial look at the data and the quality*\n",
    "\n",
    "*merge the WGS VCF files and the 'founders'*\n",
    "\n"
   ]
  },
  {
   "cell_type": "markdown",
   "metadata": {},
   "source": [
    "## 3. Filter \n",
    "\n",
    "\n",
    "i am going to checking for sample duplication and remove with IBS/IBD thresholds of 95 or 99% to declare samples as identical. as in @pavan20\n",
    "## 4. Generate metadata\n",
    "\n",
    "# H1\n",
    "\n",
    "# H2\n",
    "# H2 Fst\n",
    "# H2 pi\n",
    "# Theta calculation?\n",
    "# H2 LD\n",
    "viltered the populations seperetly using \n",
    "\n",
    "vcftools --gzvcf snp_cca.vcf.gz --maf 0.05 --recode --stdout | bgzip -c > snp_cca_maf005.vcf.gz\n",
    "vcftools --gzvcf snp_sbpa.vcf.gz --maf 0.05 --recode --stdout | bgzip -c > snp_sbpa_maf005.vcf.gz\n",
    "# H3\n",
    "# H3 Fst\n",
    "filter total data at maf 5%\n",
    "vcftools --maf 0.05 then vcftools --weir-fst-pop cca.txt no window. \n",
    "\n",
    "# H3 Tajimas D\n",
    "calculated with vcftools ref\n",
    "Tajimas D is calculated generally as follows\n",
    "pi - theta\n",
    "how the program does it. \n",
    "\n",
    "https://github.com/vcftools/vcftools/blob/f7aee6d26885064d834199052573e31338240b76/src/cpp/variant_file_output.cpp#L3940"
   ]
  }
 ],
 "metadata": {
  "kernelspec": {
   "display_name": "ppp_env_x86",
   "language": "python",
   "name": "python3"
  },
  "language_info": {
   "codemirror_mode": {
    "name": "ipython",
    "version": 3
   },
   "file_extension": ".py",
   "mimetype": "text/x-python",
   "name": "python",
   "nbconvert_exporter": "python",
   "pygments_lexer": "ipython3",
   "version": "3.7.12"
  },
  "vscode": {
   "interpreter": {
    "hash": "fd125518df18430d0936e52ecb7291e22b91211acfd52c6d5373b9b07bdacec8"
   }
  }
 },
 "nbformat": 4,
 "nbformat_minor": 2
}
