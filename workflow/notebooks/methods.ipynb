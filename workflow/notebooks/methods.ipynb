{
 "cells": [
  {
   "cell_type": "markdown",
   "metadata": {},
   "source": [
    "# methods"
   ]
  },
  {
   "cell_type": "markdown",
   "metadata": {},
   "source": [
    "## set the scene\n",
    "\n",
    "## Data presentation\n",
    "*My data*\n",
    "\n",
    "*My data as i recived it*\n",
    "\n",
    "So what Torben did\n",
    "\n"
   ]
  },
  {
   "cell_type": "markdown",
   "metadata": {},
   "source": [
    "## 1. Setup Project\n",
    "\n",
    "To compile my data for data analysis i need to extract the snp data from the 10 known founders from the 20087 accessions in the data.\n",
    "I have a list of 10 founders (resources/start_data/founders.txt)\n",
    "i extracted the founders from the gringlobal 50ksnp data using bcftools\n",
    "The data file is downloaded from https://soybase.org/snps/\n",
    "soysnp50k_wm82.a2_41317.vcf.gz\n",
    "\n",
    "Using bcftools i renamed all the chromosomes to the same. (Gm01-Gm20)\n",
    "i made files only including data attached to the refrence chromosomes, so no scaffolds or mt data. "
   ]
  },
  {
   "cell_type": "markdown",
   "metadata": {},
   "source": [
    "## 2. Merge data for analysis\n",
    "\n",
    "intersect and merge the WGS VCF files and the Founders\n",
    "\n"
   ]
  },
  {
   "cell_type": "markdown",
   "metadata": {},
   "source": [
    "## 3. Filtering \n",
    "The wgs data was filtered for 1% maf, 5% missing data.\n",
    "Accessions from the latvian seedbank were removed; 008A 009A 010A and 011A. \n",
    "Accessions 199A, 334A, 574A were removed due to missing metadata like MG. \n",
    "Accessions with missing data > 5% which was one sample: accession 064A.\n",
    "\n",
    "\n",
    "\n",
    "further filtering, renaming and transformation of the data were conducted throughout the data analysis as needed. \n",
    "see filter_filename_overview.xlsx for\n",
    "- command settings\n",
    "- input and output files\n",
    "- in which notebook the workflow is situated. \n",
    "\n",
    "# H1\n",
    "\n",
    "\n",
    "# H2\n",
    "## H2 Fst\n",
    "\n",
    "## H2 pi\n",
    "vcftools --window-pi  (10000) \n",
    "\n",
    "## Theta calculation?\n",
    "\n",
    "## H2 LD\n",
    "The wgs data was split into populations CCA and SBPA and were filtered seperately for 5%maf.  \n",
    "LD was calculated using SNPRelate package in R with the command snpgdsLDMat and settings:\n",
    "snpgdsLDMat(gds.cca, sample.id = NULL , snp.id = snp.id.per.chr[[x]], slide = -1, method = \"r\")\n",
    "LD is calculated per chromosome (x) and gds.cca in the input data and for calculating LD for SBPA the same commands and settings were used.  \n",
    "\n",
    "# H3\n",
    "## H3 Fst\n",
    "Filterd wgs data set removing maf 5%, then fst analysis with vcftools command --weir-fst-pop, no window. \n",
    "\n",
    "## H3 Tajimas D\n",
    "calculated with vcftools\n",
    "Tajimas D is calculated generally as follows: TajimasD = pi - theta\n",
    "How the vcftools program calculates TajimasD: https://github.com/vcftools/vcftools/blob/f7aee6d26885064d834199052573e31338240b76/src/cpp/variant_file_output.cpp#L3940"
   ]
  },
  {
   "cell_type": "markdown",
   "metadata": {},
   "source": []
  }
 ],
 "metadata": {
  "kernelspec": {
   "display_name": "ppp_env_x86",
   "language": "python",
   "name": "python3"
  },
  "language_info": {
   "codemirror_mode": {
    "name": "ipython",
    "version": 3
   },
   "file_extension": ".py",
   "mimetype": "text/x-python",
   "name": "python",
   "nbconvert_exporter": "python",
   "pygments_lexer": "ipython3",
   "version": "3.7.12"
  },
  "vscode": {
   "interpreter": {
    "hash": "fd125518df18430d0936e52ecb7291e22b91211acfd52c6d5373b9b07bdacec8"
   }
  }
 },
 "nbformat": 4,
 "nbformat_minor": 2
}
