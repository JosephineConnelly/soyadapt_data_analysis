{
 "cells": [
  {
   "cell_type": "code",
   "execution_count": null,
   "metadata": {
    "vscode": {
     "languageId": "shellscript"
    }
   },
   "outputs": [],
   "source": []
  },
  {
   "attachments": {},
   "cell_type": "markdown",
   "metadata": {},
   "source": [
    "# 1. prepare WGS data for Fst analysis \n"
   ]
  },
  {
   "cell_type": "code",
   "execution_count": null,
   "metadata": {
    "vscode": {
     "languageId": "shellscript"
    }
   },
   "outputs": [],
   "source": [
    "# move to home directory\n",
    "cd /Users/josephinelovemachine/soyadapt_data_analysis_with_start_data/resources/start_data\n",
    "# make a genome scan directory\n",
    "mkdir genome_scan\n",
    "# make an environmental variable for the input vcf\n",
    "VCF_cca=/Users/josephinelovemachine/soyadapt_data_analysis_with_start_data/resources/start_data/cca.vcf.gz\n",
    "VCF_sbpa=/Users/josephinelovemachine/soyadapt_data_analysis_with_start_data/resources/start_data/sbpa.vcf.gz\n",
    "VCF_WGS=/Users/josephinelovemachine/soyadapt_data_analysis_with_start_data/resources/start_data/wgs_no006A007A.vcf.gz\n",
    "\n",
    "bcftools query -l ${VCF_cca} > cca.txt\n",
    "bcftools query -l ${VCF_sbpa} > sbpa.txt\n",
    "bcftools query -l ${VCF_WGS} > wgs.txt"
   ]
  },
  {
   "cell_type": "code",
   "execution_count": null,
   "metadata": {
    "vscode": {
     "languageId": "shellscript"
    }
   },
   "outputs": [],
   "source": [
    "vcftools --gzvcf ${VCF_WGS} \\\n",
    "--weir-fst-pop cca.txt \\\n",
    "--weir-fst-pop sbpa.txt \\\n",
    "--fst-window-size 1000 \\\n",
    "--fst-window-step 100 \\\n",
    "--out cca_sbpa_1000_100\n",
    "#Parameters as interpreted:\n",
    "#\t--gzvcf /Users/josephinelovemachine/soyadapt_data_analysis_with_start_data/resources/start_data/wgs_no006A007A.vcf.gz\n",
    "#\t--fst-window-size 1000\n",
    "#\t--fst-window-step 100\n",
    "#\t--weir-fst-pop cca.txt\n",
    "#\t--weir-fst-pop sbpa.txt\n",
    "#\t--keep cca.txt\n",
    "#\t--keep sbpa.txt\n",
    "#\t--out cca_sbpa_1000_100\n",
    "# the file pur out is cca_sbpa_1000_100.windowed.weir.fst and .log"
   ]
  },
  {
   "cell_type": "code",
   "execution_count": null,
   "metadata": {
    "vscode": {
     "languageId": "shellscript"
    }
   },
   "outputs": [],
   "source": [
    "vcftools --gzvcf ${VCF_WGS} \\\n",
    "--weir-fst-pop cca.txt \\\n",
    "--weir-fst-pop sbpa.txt \\\n",
    "--out cca_sbpa\n",
    "#Parameters as interpreted:\n",
    "#\t--gzvcf /Users/josephinelovemachine/soyadapt_data_analysis_with_start_data/resources/start_data/wgs_no006A007A.vcf.gz\n",
    "#\t--weir-fst-pop cca.txt\n",
    "#\t--weir-fst-pop sbpa.txt\n",
    "#\t--keep cca.txt\n",
    "#\t--keep sbpa.txt\n",
    "#\t--out cca_sbpa\n",
    "#\t--out cca_sbpa_1000_100\n",
    "# the file pur out is cca_sbpa.weir.fst and .log"
   ]
  }
 ],
 "metadata": {
  "kernelspec": {
   "display_name": "ppp_env_x86",
   "language": "python",
   "name": "python3"
  },
  "language_info": {
   "codemirror_mode": {
    "name": "ipython",
    "version": 3
   },
   "file_extension": ".py",
   "mimetype": "text/x-python",
   "name": "python",
   "nbconvert_exporter": "python",
   "pygments_lexer": "ipython3",
   "version": "3.7.12"
  },
  "vscode": {
   "interpreter": {
    "hash": "fd125518df18430d0936e52ecb7291e22b91211acfd52c6d5373b9b07bdacec8"
   }
  }
 },
 "nbformat": 4,
 "nbformat_minor": 2
}
