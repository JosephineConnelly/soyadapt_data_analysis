{
 "cells": [
  {
   "cell_type": "code",
   "execution_count": null,
   "metadata": {
    "vscode": {
     "languageId": "shellscript"
    }
   },
   "outputs": [],
   "source": []
  },
  {
   "attachments": {},
   "cell_type": "markdown",
   "metadata": {},
   "source": [
    "# 1. prepare WGS data for Fst analysis \n"
   ]
  },
  {
   "cell_type": "markdown",
   "metadata": {},
   "source": [
    "I need to filter 5% maf and then do the fst\n",
    "see vcftools documentation: https://vcftools.sourceforge.net/documentation.html#freq"
   ]
  },
  {
   "cell_type": "code",
   "execution_count": null,
   "metadata": {
    "vscode": {
     "languageId": "shellscript"
    }
   },
   "outputs": [],
   "source": [
    "# move to home directory\n",
    "cd /Users/josephinelovemachine/soyadapt_data_analysis_with_start_data/resources/start_data\n",
    "VCF_WGS=/Users/josephinelovemachine/soyadapt_data_analysis_with_start_data/resources/start_data/wgs_no006A007A.vcf.gz"
   ]
  },
  {
   "cell_type": "code",
   "execution_count": null,
   "metadata": {
    "vscode": {
     "languageId": "shellscript"
    }
   },
   "outputs": [],
   "source": [
    "bcftools view --no-header -G -m2 -M2 --types snps ${VCF_WGS} | wc -l \n",
    "#8533444\n",
    "\n",
    "vcftools --gzvcf ${VCF_WGS} --freq --out vcf_wgs_maf005 --maf 0.05\n",
    "tail -n +2 vcf_wgs_maf005.frq | wc -l\n",
    "#kept 5298207 of possible 8533444 Sites\n",
    "#562 individuals \n",
    "\n",
    "vcftools --gzvcf ${VCF_WGS} --maf 0.05 --recode --stdout | bgzip -c > wgs_maf5.vcf.gz\n",
    "\n",
    "## ready for fst calculation \n",
    "wgs_maf5.vcf.gz\n",
    "\n",
    "bcftools query -l wgs_maf5.vcf.gz > wgs_maf5_samples.txt"
   ]
  },
  {
   "cell_type": "code",
   "execution_count": null,
   "metadata": {
    "vscode": {
     "languageId": "shellscript"
    }
   },
   "outputs": [],
   "source": [
    "\n",
    "wgs_maf5=/Users/josephinelovemachine/soyadapt_data_analysis_with_start_data/resources/start_data/wgs_maf5.vcf.gz\n",
    "# make an environmental variable for the input vcf\n",
    "\n",
    "#bcftools query -l ${VCF_cca} > cca.txt\n",
    "#bcftools query -l ${VCF_sbpa} > sbpa.txt"
   ]
  },
  {
   "cell_type": "markdown",
   "metadata": {},
   "source": [
    "# Fst calculation"
   ]
  },
  {
   "cell_type": "code",
   "execution_count": null,
   "metadata": {
    "vscode": {
     "languageId": "shellscript"
    }
   },
   "outputs": [],
   "source": [
    "vcftools --gzvcf ${VCF_WGS} \\\n",
    "--weir-fst-pop cca.txt \\\n",
    "--weir-fst-pop sbpa.txt \\\n",
    "--out cca_sbpa\n",
    "#Parameters as interpreted:\n",
    "#\t--gzvcf /Users/josephinelovemachine/soyadapt_data_analysis_with_start_data/resources/start_data/wgs_no006A007A.vcf.gz\n",
    "#\t--weir-fst-pop cca.txt\n",
    "#\t--weir-fst-pop sbpa.txt\n",
    "#\t--keep cca.txt\n",
    "#\t--keep sbpa.txt\n",
    "#\t--out cca_sbpa\n",
    "#\t--out cca_sbpa\n",
    "# the file pur out is cca_sbpa.weir.fst and .log"
   ]
  },
  {
   "cell_type": "markdown",
   "metadata": {},
   "source": [
    "# Go to R and plot "
   ]
  },
  {
   "cell_type": "markdown",
   "metadata": {},
   "source": [
    "# Continue to H3_TD \n"
   ]
  },
  {
   "cell_type": "markdown",
   "metadata": {},
   "source": [
    "# Fst calculation with window 1000"
   ]
  },
  {
   "cell_type": "code",
   "execution_count": null,
   "metadata": {
    "vscode": {
     "languageId": "shellscript"
    }
   },
   "outputs": [],
   "source": [
    "vcftools --gzvcf ${wgs_maf5} \\\n",
    "--weir-fst-pop cca.txt \\\n",
    "--weir-fst-pop sbpa.txt \\\n",
    "--fst-window-size 1000 \\\n",
    "--out cca_sbpa_1000\n",
    "\n",
    "\n",
    "\n",
    "#Parameters as interpreted:\n",
    "#\t--gzvcf /Users/josephinelovemachine/soyadapt_data_analysis_with_start_data/resources/start_data/wgs_maf5.vcf.gz\n",
    "#\t--fst-window-size 1000\n",
    "#\t--weir-fst-pop cca.txt\n",
    "#\t--weir-fst-pop sbpa.txt\n",
    "#\t--keep cca.txt\n",
    "#\t--keep sbpa.txt\n",
    "#\t--out cca_sbpa_1000\n"
   ]
  }
 ],
 "metadata": {
  "kernelspec": {
   "display_name": "ppp_env_x86",
   "language": "python",
   "name": "python3"
  },
  "language_info": {
   "codemirror_mode": {
    "name": "ipython",
    "version": 3
   },
   "file_extension": ".py",
   "mimetype": "text/x-python",
   "name": "python",
   "nbconvert_exporter": "python",
   "pygments_lexer": "ipython3",
   "version": "3.7.12"
  },
  "vscode": {
   "interpreter": {
    "hash": "fd125518df18430d0936e52ecb7291e22b91211acfd52c6d5373b9b07bdacec8"
   }
  }
 },
 "nbformat": 4,
 "nbformat_minor": 2
}
