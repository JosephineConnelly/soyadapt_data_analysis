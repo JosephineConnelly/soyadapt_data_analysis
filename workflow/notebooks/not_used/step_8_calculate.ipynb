{
 "cells": [
  {
   "attachments": {},
   "cell_type": "markdown",
   "metadata": {},
   "source": [
    "# 8. Calculate"
   ]
  },
  {
   "attachments": {},
   "cell_type": "markdown",
   "metadata": {},
   "source": [
    "Make sure dependencies and env are as it should be"
   ]
  },
  {
   "attachments": {},
   "cell_type": "markdown",
   "metadata": {},
   "source": [
    "ppp_env_x86.yaml / soyadapt_env_x86"
   ]
  },
  {
   "cell_type": "code",
   "execution_count": 3,
   "metadata": {},
   "outputs": [
    {
     "name": "stdout",
     "output_type": "stream",
     "text": [
      "Imports complete\n"
     ]
    }
   ],
   "source": [
    "import sys\n",
    "import os\n",
    "import subprocess\n",
    "\n",
    "from pgpipe import four_gamete, vcf_split_pysam, model_creator, vcf_to_ima, vcf_filter, vcf_calc, vcf_sampler, vcf_phase, stat_sampler, vcf_split, vcf_utilities, vcf_to_treemix\n",
    "from pgpipe.logging_module import initLogger\n",
    "from pgpipe.informative_loci_filter import filter_bed_regions\n",
    "from pgpipe.subtract_bed import filter_stat\n",
    "import pysam\n",
    "\n",
    "print (\"Imports complete\")"
   ]
  },
  {
   "cell_type": "code",
   "execution_count": 6,
   "metadata": {},
   "outputs": [
    {
     "name": "stdout",
     "output_type": "stream",
     "text": [
      "/Users/josephinelovemachine\n",
      "/Users/josephinelovemachine/soyadapt_data_analysis\n",
      "home directory defined\n"
     ]
    }
   ],
   "source": [
    "#define project name\n",
    "#project_name = 'projectname'\n",
    "project_name = 'soyadapt_data_analysis' # [ ] \n",
    "\n",
    "import os.path\n",
    "path = '/Users/josephinelovemachine'\n",
    "full_path = os.path.expanduser(path)\n",
    "print (full_path)\n",
    "# set home directory\n",
    "# ~/<projectname>/\n",
    "home_dir = os.path.join( full_path, project_name)\n",
    "print (home_dir)\n",
    "print (\"home directory defined\")\n"
   ]
  },
  {
   "cell_type": "code",
   "execution_count": 7,
   "metadata": {
    "collapsed": true
   },
   "outputs": [
    {
     "name": "stdout",
     "output_type": "stream",
     "text": [
      "/Users/josephinelovemachine/soyadapt_data_analysis/resources/\n",
      "/Users/josephinelovemachine/soyadapt_data_analysis/resources/start_data/\n",
      "/Users/josephinelovemachine/soyadapt_data_analysis/resources/generated_data/\n"
     ]
    }
   ],
   "source": [
    "#Set up directories and filepaths, run on all restarts\n",
    "config_dir = home_dir + '/config/'\n",
    "results_dir = home_dir + '/results/'\n",
    "workflow_dir = home_dir + '/workflow/' \n",
    "notebook_dir = workflow_dir + '/notebooks/' #WHE RE THIS NOTEBOOK SHOULD BE [X]\n",
    "# my working dir is where my data is ~/project_name/resources/\n",
    "work_dir = home_dir + '/resources/'\n",
    "#start data files:'\n",
    "data_dir= work_dir +'start_data/' # my main_vcf_data is here\n",
    "#generated data files:\n",
    "data_generated = work_dir + 'generated_data/'\n",
    "#generated data files:\n",
    "logfile = data_generated+'logfiles/'\n",
    "\n",
    "#Define start data name and location:\n",
    "# data names are set to data _ name _ *** (e.g. data_name_snp)\n",
    "# data locations are set to data _ *** _ datatype (e.g. data_snp_vcf)\n",
    "#Which data do you want to use?\n",
    "data_name_snp = 'soysnp50k' \n",
    "data_snp_vcf = data_dir+'soysnp50k.vcf.gz' \n",
    "data_name_test = 'test_data' \n",
    "data_test_vcf = data_dir+'test_data.vcf.gz' \n",
    "data_name_intersection = 'intersection_data'\n",
    "data_intersection_vcf = data_dir+'intersection_data.vcf.gz' \n",
    "data_name_imputed = 'imputed_data'\n",
    "data_imputed_vcf = data_dir+'imputed_data.vcf.gz' \n",
    "\n",
    "# ADDED Metadata from start\n",
    "#chromosomes list\n",
    "list_vcf_name_chr = data_dir+'soybean_resequencing_MQ30_list_vcf_name_chr'\n",
    "# string of all 20 chromosomes named chr\n",
    "chr_all = data_dir+'chr.txt' \n",
    "# The 50k snps list \n",
    "list_snp_locations_50k = data_dir+'soybean_resequencing_MQ30_ist_snp_locations_50k'\n",
    "# metadata list:\n",
    "list_vcf_name_country = data_dir+'soybean_resequencing_MQ30_list_vcf_name_country'\n",
    "list_vcf_name_maturitygroup = data_dir+'soybean_resequencing_MQ30_list_vcf_name_maturitygroup'\n",
    "#list of accessions + population(CCA/SA/Founders) + country + maturity group\n",
    "list_vcf_name_collected = data_dir+'soybean_resequencing_MQ30_list_vcf_name_collected'\n",
    "#data files lists so they are named accordingly when generated or added to the project:\n",
    "list_vcf_name_sa= data_dir+'soybean_resequencing_MQ30_list_vcf_name_sa'\n",
    "list_vcf_name_cca= data_dir+'soybean_resequencing_MQ30_list_vcf_name_cca'\n",
    "list_vcf_name_founders= data_dir+'soybean_resequencing_MQ30_list_vcf_name_founders'\n",
    "stat_file_name= data_generated+'soybean_resequencing_MQ30_stat_file'\n",
    "\n",
    "loci=50000\n",
    "# print check directories and files\n",
    "print(work_dir)\n",
    "print(data_dir)\n",
    "print(data_generated)\n"
   ]
  },
  {
   "cell_type": "code",
   "execution_count": null,
   "metadata": {
    "collapsed": true
   },
   "outputs": [],
   "source": [
    "#Set up directory structure, only needs to be run once\n",
    "if not os.path.exists(config_dir):\n",
    "    os.makedirs(config_dir)\n",
    "if not os.path.exists(results_dir):\n",
    "    os.makedirs(results_dir)\n",
    "if not os.path.exists(workflow_dir):\n",
    "    os.makedirs(workflow_dir)\n",
    "if not os.path.exists(notebook_dir):\n",
    "    os.makedirs(notebook_dir)            \n",
    "if not os.path.exists(work_dir):\n",
    "    os.makedirs(work_dir)\n",
    "if not os.path.exists(work_dir+'generated_data/'):\n",
    "    os.makedirs(work_dir+'generated_data/')\n",
    "if not os.path.exists(data_dir):\n",
    "    os.makedirs(work_dir+'start_data/')\n",
    "if not os.path.exists(data_generated):\n",
    "    os.makedirs(data_generated)\n",
    "if not os.path.exists(data_generated+'logfiles/'):\n",
    "    os.makedirs(data_generated+'logfiles/')\n",
    "# add files for the project that dont need variables allocated and workflow access\n",
    "if not os.path.exists(workflow_dir+'envs/'): # envs for each workflow\n",
    "    os.makedirs(workflow_dir+'envs/')\n",
    "if not os.path.exists(workflow_dir+'scripts/'): # scripts for the project like R scripts\n",
    "    os.makedirs(workflow_dir+'scripts/')\n",
    "if not os.path.exists(workflow_dir+'notebooks/'): # this notebook is here! move now! \n",
    "    os.makedirs(workflow_dir+'notebooks/')\n",
    "if not os.path.exists(workflow_dir+'repots/'): # if not in logfile, then here\n",
    "    os.makedirs(workflow_dir+'reports/')\n",
    "\n",
    "print('move this notebook now to the notebook directory')"
   ]
  },
  {
   "attachments": {},
   "cell_type": "markdown",
   "metadata": {},
   "source": [
    "cant get it to work right now, for simplicities sake:\n",
    "from PPP\n",
    "Example 1: Simple Model\n",
    "\n",
    "A basic model only require a single population (pop) with a single in individual (ind). Only three commands are required:\n",
    "\n",
    "    Create and name a model: --model 1Pop\n",
    "    Assign a pop to a model: --model-pop 1Pop Paniscus\n",
    "    Assign an ind to a pop: --pop-ind Paniscus Pan_paniscus-9731_LB502\n"
   ]
  },
  {
   "cell_type": "code",
   "execution_count": 11,
   "metadata": {},
   "outputs": [],
   "source": [
    "model_creator.run(['--model', '1Pop', '--model-pop', '1Pop', 'Pop_one', '--pop-ind', 'Pop_one', '387A', '--model-pop', '1Pop', 'Pop_two', '--pop-ind', 'Pop_two', '406A', '--model-tree-file', '1Pop', data_dir+'tree.txt'])"
   ]
  },
  {
   "cell_type": "code",
   "execution_count": 13,
   "metadata": {},
   "outputs": [
    {
     "name": "stderr",
     "output_type": "stream",
     "text": [
      "usage: ipykernel_launcher.py [-h] --vcf VCF [--model-file MODEL_FILE]\n",
      "                             [--model MODEL]\n",
      "                             [--pop-file POP_FILE [POP_FILE ...]] [--out OUT]\n",
      "                             [--out-prefix OUT_PREFIX] [--out-dir OUT_DIR]\n",
      "                             [--overwrite] --calc-statistic {weir-fst,\n",
      "                             windowed-weir-fst, TajimaD, site-pi, window-pi,\n",
      "                             freq, het-fit, het-fis, hardy-weinberg}\n",
      "                             [--statistic-window-size STATISTIC_WINDOW_SIZE]\n",
      "                             [--statistic-window-step STATISTIC_WINDOW_STEP]\n",
      "                             [--filter-include-positions FILTER_INCLUDE_POSITIONS]\n",
      "                             [--filter-exclude-positions FILTER_EXCLUDE_POSITIONS]\n",
      "                             [--filter-include-bed FILTER_INCLUDE_BED]\n",
      "                             [--filter-exclude-bed FILTER_EXCLUDE_BED]\n",
      "                             [--filter-include-indv FILTER_INCLUDE_INDV [FILTER_INCLUDE_INDV ...]]\n",
      "                             [--filter-exclude-indv FILTER_EXCLUDE_INDV [FILTER_EXCLUDE_INDV ...]]\n",
      "                             [--filter-include-indv-file FILTER_INCLUDE_INDV_FILE]\n",
      "                             [--filter-exclude-indv-file FILTER_EXCLUDE_INDV_FILE]\n",
      "ipykernel_launcher.py: error: unrecognized arguments: --vcf-pop Pop_one --vcf-pop Pop_two\n"
     ]
    },
    {
     "ename": "SystemExit",
     "evalue": "2",
     "output_type": "error",
     "traceback": [
      "An exception has occurred, use %tb to see the full traceback.\n",
      "\u001b[0;31mSystemExit\u001b[0m\u001b[0;31m:\u001b[0m 2\n"
     ]
    },
    {
     "name": "stderr",
     "output_type": "stream",
     "text": [
      "/opt/homebrew/anaconda3/envs/ppp_env_x86/lib/python3.7/site-packages/IPython/core/interactiveshell.py:3560: UserWarning: To exit: use 'exit', 'quit', or Ctrl-D.\n",
      "  warn(\"To exit: use 'exit', 'quit', or Ctrl-D.\", stacklevel=1)\n"
     ]
    }
   ],
   "source": [
    "#Calculates f_st statistics across genome\n",
    "vcf_calc.run(['--vcf', main_vcf_data, '--out', stat_file_name, '--calc-statistic', 'weir-fst', '--statistic-window-size', '10000', '--statistic-window-step', '10000', '--overwrite', '--vcf-pop', 'Pop_one', '--vcf-pop', 'Pop_two'])\n",
    "print(\"Stat calculation complete\")"
   ]
  },
  {
   "cell_type": "code",
   "execution_count": 14,
   "metadata": {},
   "outputs": [
    {
     "ename": "SyntaxError",
     "evalue": "invalid syntax (662998507.py, line 1)",
     "output_type": "error",
     "traceback": [
      "\u001b[0;36m  File \u001b[0;32m\"/var/folders/1h/nb7x81q15l172nmf3p9pct640000gp/T/ipykernel_14411/662998507.py\"\u001b[0;36m, line \u001b[0;32m1\u001b[0m\n\u001b[0;31m    vcf_calc.py --vcf examples/files/merged_chr1_10000.vcf.gz --model-file examples/files/input.model --model 1Pop --calc-statistic windowed-weir-fst --statistic-window-size 10000 --statistic-window-step 10000\u001b[0m\n\u001b[0m                             ^\u001b[0m\n\u001b[0;31mSyntaxError\u001b[0m\u001b[0;31m:\u001b[0m invalid syntax\n"
     ]
    }
   ],
   "source": [
    "vcf_calc.run([--vcf examples/files/merged_chr1_10000.vcf.gz --model-file examples/files/input.model --model 1Pop --calc-statistic windowed-weir-fst --statistic-window-size 10000 --statistic-window-step 10000])"
   ]
  }
 ],
 "metadata": {
  "kernelspec": {
   "display_name": "ppp_env_x86",
   "language": "python",
   "name": "python3"
  },
  "language_info": {
   "codemirror_mode": {
    "name": "ipython",
    "version": 3
   },
   "file_extension": ".py",
   "mimetype": "text/x-python",
   "name": "python",
   "nbconvert_exporter": "python",
   "pygments_lexer": "ipython3",
   "version": "3.7.12"
  },
  "vscode": {
   "interpreter": {
    "hash": "fd125518df18430d0936e52ecb7291e22b91211acfd52c6d5373b9b07bdacec8"
   }
  }
 },
 "nbformat": 4,
 "nbformat_minor": 2
}
