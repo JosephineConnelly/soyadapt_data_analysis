{
 "cells": [
  {
   "attachments": {},
   "cell_type": "markdown",
   "metadata": {},
   "source": [
    " # 3. Filter "
   ]
  },
  {
   "cell_type": "code",
   "execution_count": null,
   "metadata": {
    "vscode": {
     "languageId": "html"
    }
   },
   "outputs": [],
   "source": []
  },
  {
   "cell_type": "code",
   "execution_count": null,
   "metadata": {
    "vscode": {
     "languageId": "html"
    }
   },
   "outputs": [],
   "source": [
    "1. project name is <soyadapt_data_analysis>\n",
    "if you haven't run the startfile, run it now. [ ]\n",
    "2. Merge data for analysis []\n",
    "3. Filter and check quality \n",
    "\n"
   ]
  },
  {
   "attachments": {},
   "cell_type": "markdown",
   "metadata": {},
   "source": [
    "in GenomeDK\n",
    "soy_data_setup.yaml\n",
    "installed via mamba bcftools"
   ]
  },
  {
   "attachments": {},
   "cell_type": "markdown",
   "metadata": {},
   "source": [
    "steps needed to filter and prepare the file(s) for analysis\n",
    "I think there are two types of filters i want to do\n",
    "1. practical filter:\n",
    "    Make sure chromosomes are all called the same. \n",
    "    make sure only chromosome 1-20 are included. So i filter out all the mt and scaffolds. \n",
    "    check all the accession names\n",
    "    filter for similar accessions and filter them out.  \n",
    "    Make the model file with the accessions left. \n",
    "    Individuals not named in model file (use --model-file to input model file, with --model if multiple models included in file) should i make a file?\n",
    "\n",
    "2. quality filtering\n",
    "- Non-biallelic sites (--filter-min-alleles and --filter-max-alleles)\n",
    "- remove minor allele frequency (MAF) < 1% = under 0.01 (--filter-maf-min) (this should have already been done in the received file)\n",
    "- Remove SNPs with >20% missing calls \n",
    "- >10% heterozygosity and monomorphic SNPs. \t\n",
    "- Sites with missing data (--filter-max-missing) how much missing data isok?\n",
    "\n",
    "3. make statistics on the filtering"
   ]
  },
  {
   "attachments": {},
   "cell_type": "markdown",
   "metadata": {},
   "source": [
    "during the variant selection GATK \"with the best practice settings\"? a minimum quality score of 30  (MQ 30) threshhold was decided & only biallelic snps were kept. \n",
    "using VCFtools and a minor allele count of 1% (MAF 0.01). using the code: \n",
    "vcftools --vcf soybean_resequencing_MQ30.vcf --maf 0.01 --recode --recode-INFO-all --out soybean_resequencing_MQ30_maf_0.01"
   ]
  },
  {
   "attachments": {},
   "cell_type": "markdown",
   "metadata": {},
   "source": [
    "#VCFtools\n",
    "\n",
    "We are going to only keep variants that have been successfully genotyped in 50% of individuals --max-missing 0.5 tells it to filter genotypes called below 30% (across all individuals)?\n",
    "\n",
    "vcftools --gzvcf raw.vcf.gz --max-missing 0.3 --recode --recode-INFO-all --out raw.g5mac3\n",
    "\n",
    "This command will recode (keep) genotypes that have less than 3 reads.\n",
    "\n",
    "vcftools --vcf raw.g5mac3.recode.vcf --minDP 3 --recode --recode-INFO-all --out raw.g5mac3dp3\n",
    "\n",
    "individual levels of missing data\n",
    "vcftools --vcf raw.g5mac3dp3.recode.vcf --missing-indv\n",
    "cat out.imiss\n",
    "\n",
    "\n"
   ]
  },
  {
   "attachments": {},
   "cell_type": "markdown",
   "metadata": {},
   "source": [
    "filter for "
   ]
  },
  {
   "attachments": {},
   "cell_type": "markdown",
   "metadata": {},
   "source": [
    "# 1. "
   ]
  },
  {
   "attachments": {},
   "cell_type": "markdown",
   "metadata": {},
   "source": [
    "## 2. quality \n",
    "the accession files have been merged"
   ]
  },
  {
   "attachments": {},
   "cell_type": "markdown",
   "metadata": {},
   "source": [
    "see workflow/scripts/filter_quality.sh"
   ]
  },
  {
   "attachments": {},
   "cell_type": "markdown",
   "metadata": {},
   "source": [
    "I want to start by using the vcf_filter\n",
    "\n",
    "The vcf_filter step will filter the original VCF \n"
   ]
  },
  {
   "cell_type": "code",
   "execution_count": null,
   "metadata": {
    "vscode": {
     "languageId": "shellscript"
    }
   },
   "outputs": [],
   "source": [
    "# not working\n",
    "bcf tools stats\n",
    "\n",
    "how did it work this time:\n",
    "\n",
    "\n",
    "/Users/josephinelovemachine/soyadapt_data_analysis_with_start_data/resources/start_data/cca_sbpa.vcf.gz\n",
    "# Generate the stats\n",
    "bcftools stats cd cca_sbpa.vcf.gz > /Users/josephinelovemachine/soyadapt_data_analysis/resources/data_generated/logfiles/statsfile.vchk\n",
    "\n",
    "# Plot the stats\n",
    "plot-vcfstats -p outdir /Users/josephinelovemachine/soyadapt_data_analysis/resources/data_generated/logfiles/statsfile.vchk\n",
    "# didnt work (brew install tectonic)\n",
    "#try again\n"
   ]
  }
 ],
 "metadata": {
  "kernelspec": {
   "display_name": "ppp_env_x86",
   "language": "python",
   "name": "python3"
  },
  "language_info": {
   "codemirror_mode": {
    "name": "ipython",
    "version": 3
   },
   "file_extension": ".py",
   "mimetype": "text/x-python",
   "name": "python",
   "nbconvert_exporter": "python",
   "pygments_lexer": "ipython3",
   "version": "3.7.12"
  },
  "vscode": {
   "interpreter": {
    "hash": "fd125518df18430d0936e52ecb7291e22b91211acfd52c6d5373b9b07bdacec8"
   }
  }
 },
 "nbformat": 4,
 "nbformat_minor": 2
}
