{
 "cells": [
  {
   "attachments": {},
   "cell_type": "markdown",
   "metadata": {},
   "source": [
    "\n",
    "# 5. split wgs data\n",
    "\n",
    "i need to split my data so that i can calculate \n",
    "\n",
    "LD\n",
    "\n",
    "nucleotide diversity\n",
    "\n",
    "theta\n",
    "\n",
    "- cca\n",
    "\n",
    "- sbpa\n",
    "\n",
    "- by chromosome\n",
    "\n",
    "I will split the SNP data and the wgs data\n"
   ]
  },
  {
   "attachments": {},
   "cell_type": "markdown",
   "metadata": {},
   "source": [
    "## SNP"
   ]
  },
  {
   "attachments": {},
   "cell_type": "markdown",
   "metadata": {},
   "source": [
    "note:\n",
    "\n",
    "i moved all data to /Volumes/exharddisk/\n",
    "\n",
    "so instead of \n",
    "\n",
    "Users/josephinelovemachine/soyadapt_data_analysis_with_start_data/start_data \n",
    "\n",
    "its \n",
    "\n",
    "/Volumes/exharddisk/soyadapt_data_analysis_with_start_data/start_data \n",
    "\n",
    "this is the case for all the data\n",
    "and also where all the /Volumes/exharddisk/soyadapt_data_analysis_with_start_data/generated_data/\n",
    "will be stored. \n"
   ]
  },
  {
   "attachments": {},
   "cell_type": "markdown",
   "metadata": {},
   "source": [
    "@ /Volumes/exharddisk/soyadapt_data_analysis_with_start_data/start_data\n",
    "\n",
    "here i have a copy of the file\n",
    "\n",
    "intersect_filtered.vcf.gz\n",
    "\n",
    "i renamed the file snp.vcf.gz for my own convenience:\n",
    "\n",
    "bash:\n",
    "\n",
    "cp intersect_filtered.vcf.gz /Volumes/exharddisk/soyadapt_data_analysis_with_start_data/start_data/snp.vcf.gz\n",
    "\n",
    "i have a list of the accession names in a .txt\n",
    "\n",
    "cca.txt\n",
    "sbpa.txt \n",
    "\n",
    "\n",
    "I am at this point in my analysis i am removing the accessions 006A and 007A because they do not seem to be part of the specific sbp i am looking at although they are swedish accessions.  Therefore these accessions are excluded from the data set for the diversity analysis (H2).\n",
    "\n",
    "I am also not including the \"founders\" in this nex part of the analysis.\n",
    "\n",
    "snp data in a file with only the cca accessions:\n",
    "\n",
    "vcftools --gzvcf snp.vcf.gz --keep cca.txt --out snp_cca --recode -c | bgzip -c > snp_cca.vcf.gz  #the log is called snp_cca.log\n",
    "bcftools index snp_cca.vcf.gz\n",
    "\n",
    "#the same goes for sbpa\n",
    "vcftools --gzvcf snp.vcf.gz --keep sbpa.txt --out snp_sbpa --recode -c | bgzip -c > snp_sbpa.vcf.gz\n",
    "bcftools index snp_sbpa.vcf.gz \n",
    "\n",
    "check\n",
    "bcftools view --no-header -G -m 2 -M 2 --types snps snp.vcf.gz | wc -l\n",
    "35486\n",
    "bcftools view --no-header -G -m 2 -M 2 --types snps snp_cca.vcf.gz | wc -l\n",
    "35486\n",
    "bcftools view --no-header -G -m 2 -M 2 --types snps snp_sbpa.vcf.gz | wc -l\n",
    "35486\n",
    "bcftools query -l snp_cca.vcf.gz | wc -l\n",
    "409 and 153 for sbpa\n",
    "\n",
    "\n",
    "then i will split the vcf file by chromosome so i can calculate LD/chromosome\n",
    "cca_1.vcf.gz\n",
    "cca_2.vcf.gz etc.\n",
    "\n",
    "* here!\n",
    "bcftools view snp_cca.vcf.gz -r 1 -Oz -o cca_1.vcf.gz\n",
    "\n"
   ]
  },
  {
   "attachments": {},
   "cell_type": "markdown",
   "metadata": {},
   "source": [
    "I used:\n",
    "bcftools view snp_cca.vcf.gz -r 1 -Oz -o snp_cca_1.vcf.gz |bcftools view snp_cca.vcf.gz -r 2 -Oz -o snp_cca_2.vcf.gz | bcftools view snp_cca.vcf.gz -r 3 -Oz -o snp_cca_3.vcf.gz | bcftools view snp_cca.vcf.gz -r 4 -Oz -o snp_cca_4.vcf.gz | bcftools view snp_cca.vcf.gz -r 5 -Oz -o snp_cca_5.vcf.gz | bcftools view snp_cca.vcf.gz -r 6 -Oz -o snp_cca_6.vcf.gz | bcftools view snp_cca.vcf.gz -r 7 -Oz -o snp_cca_7.vcf.gz | bcftools view snp_cca.vcf.gz -r 8 -Oz -o snp_cca_8.vcf.gz | bcftools view snp_cca.vcf.gz -r 9 -Oz -o snp_cca_9.vcf.gz | bcftools view snp_cca.vcf.gz -r 10 -Oz -o snp_cca_10.vcf.gz | bcftools view snp_cca.vcf.gz -r 11 -Oz -o snp_cca_11.vcf.gz | bcftools view snp_cca.vcf.gz -r 12 -Oz -o snp_cca_12.vcf.gz | bcftools view snp_cca.vcf.gz -r 13 -Oz -o snp_cca_13.vcf.gz | bcftools view snp_cca.vcf.gz -r 14 -Oz -o snp_cca_14.vcf.gz | bcftools view snp_cca.vcf.gz -r 15 -Oz -o snp_cca_15.vcf.gz | bcftools view snp_cca.vcf.gz -r 16 -Oz -o snp_cca_16.vcf.gz | bcftools view snp_cca.vcf.gz -r 17 -Oz -o snp_cca_17.vcf.gz | bcftools view snp_cca.vcf.gz -r 18 -Oz -o snp_cca_18.vcf.gz | bcftools view snp_cca.vcf.gz -r 19 -Oz -o snp_cca_19.vcf.gz | bcftools view snp_cca.vcf.gz -r 20 -Oz -o snp_cca_20.vcf.gz \n",
    "\n",
    "check\n",
    "bcftools query -l snp_cca_1.vcf.gz | wc -l\n",
    "409\n",
    "bcftools view --no-header -G -m 2 -M 2 --types snps snp_cca_1.vcf.gz | wc -l\n",
    "\n",
    "\n",
    "split snp_sbpa up in chr too\n",
    "\n",
    "bcftools view snp_sbpa.vcf.gz -r 1 -Oz -o snp_sbpa_1.vcf.gz |bcftools view snp_sbpa.vcf.gz -r 2 -Oz -o snp_sbpa_2.vcf.gz | bcftools view snp_sbpa.vcf.gz -r 3 -Oz -o snp_sbpa_3.vcf.gz | bcftools view snp_sbpa.vcf.gz -r 4 -Oz -o snp_sbpa_4.vcf.gz | bcftools view snp_sbpa.vcf.gz -r 5 -Oz -o snp_sbpa_5.vcf.gz | bcftools view snp_sbpa.vcf.gz -r 6 -Oz -o snp_sbpa_6.vcf.gz | bcftools view snp_sbpa.vcf.gz -r 7 -Oz -o snp_sbpa_7.vcf.gz | bcftools view snp_sbpa.vcf.gz -r 8 -Oz -o snp_sbpa_8.vcf.gz | bcftools view snp_sbpa.vcf.gz -r 9 -Oz -o snp_sbpa_9.vcf.gz | bcftools view snp_sbpa.vcf.gz -r 10 -Oz -o snp_sbpa_10.vcf.gz | bcftools view snp_sbpa.vcf.gz -r 11 -Oz -o snp_sbpa_11.vcf.gz | bcftools view snp_sbpa.vcf.gz -r 12 -Oz -o snp_sbpa_12.vcf.gz | bcftools view snp_sbpa.vcf.gz -r 13 -Oz -o snp_sbpa_13.vcf.gz | bcftools view snp_sbpa.vcf.gz -r 14 -Oz -o snp_sbpa_14.vcf.gz | bcftools view snp_sbpa.vcf.gz -r 15 -Oz -o snp_sbpa_15.vcf.gz | bcftools view snp_sbpa.vcf.gz -r 16 -Oz -o snp_sbpa_16.vcf.gz | bcftools view snp_sbpa.vcf.gz -r 17 -Oz -o snp_sbpa_17.vcf.gz | bcftools view snp_sbpa.vcf.gz -r 18 -Oz -o snp_sbpa_18.vcf.gz | bcftools view snp_sbpa.vcf.gz -r 19 -Oz -o snp_sbpa_19.vcf.gz | bcftools view snp_sbpa.vcf.gz -r 20 -Oz -o snp_sbpa_20.vcf.gz\n",
    "\n",
    "bcftools query -l snp_sbpa.vcf.gz | wc -l\n",
    "153\n",
    "\n",
    "\n",
    "\n",
    "\n",
    "#count the snps per chromosome in snp_CCA:\n",
    "bcftools view --no-header -G -m 2 -M 2 --types snps snp_cca_1.vcf.gz | wc -l > /Users/josephinelovemachine/soyadapt_data_analysis_with_start_data/resources/generated_data/snp_cca_snp_counts_per_chr.txt\n",
    "\n",
    "for x in {1..20}\n",
    "do\n",
    "bcftools view --no-header -G -m 2 -M 2 --types snps snp_cca_$x.vcf.gz | wc -l >> /Users/josephinelovemachine/soyadapt_data_analysis_with_start_data/resources/generated_data/snp_cca_snp_counts_per_chr.txt \n",
    "done\n",
    "\n",
    "snp_SBPA\n",
    "for x in {1..20}\n",
    "do\n",
    "bcftools view --no-header -G -m 2 -M 2 --types snps snp_sbpa_$x.vcf.gz | wc -l >> /Users/josephinelovemachine/soyadapt_data_analysis_with_start_data/resources/generated_data/snp_sbpa_snp_counts_per_chr.txt \n",
    "done\n",
    "\n",
    "bcftools view --no-header -G -m 2 -M 2 --types snps -r  snp_sbpa.vcf.gz | wc -l\n",
    "\n",
    "\n",
    "\n",
    "\n",
    "check\n",
    "bcftools query -l snp_cca.vcf.gz | wc -l\n",
    "409\n",
    "bcftools query -l snp_sbpa.vcf.gz | wc -l\n",
    "153\n",
    "bcftools view --no-header -G -m 2 -M 2 --types snps snp_cca.vcf.gz | wc -l\n",
    "8533444\n",
    "bcftools view --no-header -G -m 2 -M 2 --types snps snp_sbpa.vcf.gz | wc -l\n",
    "8533444\n",
    "bcftools view --no-header -G -m 2 -M 2 --types snps snp_cca_snp_sbpa_filtered.vcf.gz | wc -l\n",
    "\n",
    "bcftools query -f'[%CHROM]\\n' snp_cca.vcf.gz | uniq -c\n",
    "1426 \n",
    "2070 \n",
    "1414 \n",
    "1730 \n",
    "1551 \n",
    "1657 \n",
    "1818 \n",
    "2185 \n",
    "1654 \n",
    "1904 \n",
    "1409 \n",
    "1416 \n",
    "2277 \n",
    "1630 \n",
    "2079 \n",
    "1461 \n",
    "1721 \n",
    "2786 \n",
    "1950 \n",
    "1348\n",
    "bcftools query -f'[%CHROM]\\n' wgs.vcf.gz | uniq -l"
   ]
  },
  {
   "attachments": {},
   "cell_type": "markdown",
   "metadata": {},
   "source": [
    "## WGS"
   ]
  },
  {
   "attachments": {},
   "cell_type": "markdown",
   "metadata": {},
   "source": [
    "at /Users/josephinelovemachine/soyadapt_data_analysis_with_start_data/resources/start_data\n",
    "\n",
    "here i will copy the file and give it a new name:\n",
    "bash:\n",
    "cp cca_sbpa_filtered.vcf.gz wgs.vcf.gz\n",
    "bcftools index wgs.vcf.gz"
   ]
  },
  {
   "attachments": {},
   "cell_type": "markdown",
   "metadata": {},
   "source": [
    "i will generate a list of the accession names in a .txt\n",
    "\n",
    "cca.txt\n",
    "sbpa.txt \n",
    "done\n",
    "\n",
    "I am at this point in my analysis i am removing the accessions 006A and 007A because they do not seem to be part of the specific sbp i am looking at although they are swedish accessions.  Therefore these accessions are excluded from the data set for the diversity analysis (H2)\n"
   ]
  },
  {
   "cell_type": "code",
   "execution_count": null,
   "metadata": {
    "vscode": {
     "languageId": "plaintext"
    }
   },
   "outputs": [],
   "source": [
    "vcftools --gzvcf wgs.vcf.gz --keep cca.txt --out cca --recode -c | bgzip -c > cca.vcf.gz  #the log is called cca.log\n",
    "bcftools index cca.vcf.gz\n",
    "\n",
    "#the same goes for sbpa\n",
    "vcftools --gzvcf wgs.vcf.gz --keep sbpa.txt --out sbpa --recode -c | bgzip -c > sbpa.vcf.gz\n",
    "bcftools index sbpa.vcf.gz \n",
    "done\n",
    "check\n",
    "bcftools view --no-header -G -m 2 -M 2 --types snps wgs.vcf.gz | wc -l\n",
    "8533444\n",
    "bcftools view --no-header -G -m 2 -M 2 --types snps cca.vcf.gz | wc -l\n",
    "8533444\n",
    "bcftools view --no-header -G -m 2 -M 2 --types snps sbpa.vcf.gz | wc -l\n",
    "8533444\n",
    "bcftools query -l cca.vcf.gz | wc -l\n",
    "409"
   ]
  },
  {
   "attachments": {},
   "cell_type": "markdown",
   "metadata": {},
   "source": [
    "\n",
    "then i will split the vcf file by chromosome so i can calculate LD/chromosome\n",
    "cca_1.vcf.gz\n",
    "cca_2.vcf.gz etc."
   ]
  },
  {
   "attachments": {},
   "cell_type": "markdown",
   "metadata": {},
   "source": [
    "bcftools view cca.vcf.gz -r 1 -Oz -o cca_1.vcf.gz\n",
    "\n",
    "I used:\n",
    "bcftools view cca.vcf.gz -r 1 -Oz -o cca_1.vcf.gz |bcftools view cca.vcf.gz -r 2 -Oz -o cca_2.vcf.gz | bcftools view cca.vcf.gz -r 3 -Oz -o cca_3.vcf.gz | bcftools view cca.vcf.gz -r 4 -Oz -o cca_4.vcf.gz | bcftools view cca.vcf.gz -r 5 -Oz -o cca_5.vcf.gz | bcftools view cca.vcf.gz -r 6 -Oz -o cca_6.vcf.gz | bcftools view cca.vcf.gz -r 7 -Oz -o cca_7.vcf.gz | bcftools view cca.vcf.gz -r 8 -Oz -o cca_8.vcf.gz | bcftools view cca.vcf.gz -r 9 -Oz -o cca_9.vcf.gz | bcftools view cca.vcf.gz -r 10 -Oz -o cca_10.vcf.gz | bcftools view cca.vcf.gz -r 11 -Oz -o cca_11.vcf.gz | bcftools view cca.vcf.gz -r 12 -Oz -o cca_12.vcf.gz | bcftools view cca.vcf.gz -r 13 -Oz -o cca_13.vcf.gz | bcftools view cca.vcf.gz -r 14 -Oz -o cca_14.vcf.gz | bcftools view cca.vcf.gz -r 15 -Oz -o cca_15.vcf.gz | bcftools view cca.vcf.gz -r 16 -Oz -o cca_16.vcf.gz | bcftools view cca.vcf.gz -r 17 -Oz -o cca_17.vcf.gz | bcftools view cca.vcf.gz -r 18 -Oz -o cca_18.vcf.gz | bcftools view cca.vcf.gz -r 19 -Oz -o cca_19.vcf.gz | bcftools view cca.vcf.gz -r 20 -Oz -o cca_20.vcf.gz \n",
    "\n",
    "check\n",
    "bcftools query -l cca_1.vcf.gz | wc -l\n",
    "409\n",
    "bcftools view --no-header -G -m 2 -M 2 --types snps cca_1.vcf.gz | wc -l\n",
    "464964"
   ]
  },
  {
   "cell_type": "code",
   "execution_count": null,
   "metadata": {
    "vscode": {
     "languageId": "plaintext"
    }
   },
   "outputs": [],
   "source": [
    "# split sbpa up in chr too\n",
    "\n",
    "bcftools view sbpa.vcf.gz -r 1 -Oz -o sbpa_1.vcf.gz |bcftools view sbpa.vcf.gz -r 2 -Oz -o sbpa_2.vcf.gz | bcftools view sbpa.vcf.gz -r 3 -Oz -o sbpa_3.vcf.gz | bcftools view sbpa.vcf.gz -r 4 -Oz -o sbpa_4.vcf.gz | bcftools view sbpa.vcf.gz -r 5 -Oz -o sbpa_5.vcf.gz | bcftools view sbpa.vcf.gz -r 6 -Oz -o sbpa_6.vcf.gz | bcftools view sbpa.vcf.gz -r 7 -Oz -o sbpa_7.vcf.gz | bcftools view sbpa.vcf.gz -r 8 -Oz -o sbpa_8.vcf.gz | bcftools view sbpa.vcf.gz -r 9 -Oz -o sbpa_9.vcf.gz | bcftools view sbpa.vcf.gz -r 10 -Oz -o sbpa_10.vcf.gz | bcftools view sbpa.vcf.gz -r 11 -Oz -o sbpa_11.vcf.gz | bcftools view sbpa.vcf.gz -r 12 -Oz -o sbpa_12.vcf.gz | bcftools view sbpa.vcf.gz -r 13 -Oz -o sbpa_13.vcf.gz | bcftools view sbpa.vcf.gz -r 14 -Oz -o sbpa_14.vcf.gz | bcftools view sbpa.vcf.gz -r 15 -Oz -o sbpa_15.vcf.gz | bcftools view sbpa.vcf.gz -r 16 -Oz -o sbpa_16.vcf.gz | bcftools view sbpa.vcf.gz -r 17 -Oz -o sbpa_17.vcf.gz | bcftools view sbpa.vcf.gz -r 18 -Oz -o sbpa_18.vcf.gz | bcftools view sbpa.vcf.gz -r 19 -Oz -o sbpa_19.vcf.gz | bcftools view sbpa.vcf.gz -r 20 -Oz -o sbpa_20.vcf.gz\n",
    "\n",
    "bcftools query -l sbpa.vcf.gz | wc -l\n",
    "153\n",
    "\n"
   ]
  },
  {
   "attachments": {},
   "cell_type": "markdown",
   "metadata": {},
   "source": [
    "#count the snps per chromosome in CCA:\n",
    "bcftools view --no-header -G -m 2 -M 2 --types snps cca_1.vcf.gz | wc -l > /Users/josephinelovemachine/soyadapt_data_analysis_with_start_data/resources/generated_data/cca_snp_counts_per_chr.txt\n",
    "\n",
    "for x in {1..20}\n",
    "do\n",
    "bcftools view --no-header -G -m 2 -M 2 --types snps cca_$x.vcf.gz | wc -l >> /Users/josephinelovemachine/soyadapt_data_analysis_with_start_data/resources/generated_data/cca_snp_counts_per_chr.txt \n",
    "done\n",
    "\n",
    "SBPA\n",
    "for x in {1..20}\n",
    "do\n",
    "bcftools view --no-header -G -m 2 -M 2 --types snps sbpa_$x.vcf.gz | wc -l >> /Users/josephinelovemachine/soyadapt_data_analysis_with_start_data/resources/generated_data/sbpa_snp_counts_per_chr.txt \n",
    "done\n",
    "\n",
    "bcftools view --no-header -G -m 2 -M 2 --types snps -r  sbpa.vcf.gz | wc -l"
   ]
  },
  {
   "attachments": {},
   "cell_type": "markdown",
   "metadata": {},
   "source": [
    "chr1\t464964\n",
    "chr2\t390047\n",
    "chr3\t444947\n",
    "chr4\t487558\n",
    "chr5\t289141\n",
    "chr6\t463901\n",
    "chr7\t366338\n",
    "chr8\t378479\n",
    "chr9\t427631\n",
    "chr10\t423082\n",
    "chr11\t248979\n",
    "chr12\t309852\n",
    "chr13\t363942\n",
    "chr14\t447452\n",
    "chr15\t537959\n",
    "chr16\t379570\n",
    "chr17\t364763\n",
    "chr18\t654166\n",
    "chr19\t466084\n",
    "chr20\t417623"
   ]
  },
  {
   "attachments": {},
   "cell_type": "markdown",
   "metadata": {},
   "source": [
    "check\n",
    "bcftools query -l cca.vcf.gz | wc -l\n",
    "409\n",
    "bcftools query -l sbpa.vcf.gz | wc -l\n",
    "153\n",
    "bcftools view --no-header -G -m 2 -M 2 --types snps cca.vcf.gz | wc -l\n",
    "8533444\n",
    "bcftools view --no-header -G -m 2 -M 2 --types snps sbpa.vcf.gz | wc -l\n",
    "8533444\n",
    "bcftools view --no-header -G -m 2 -M 2 --types snps cca_sbpa_filtered.vcf.gz | wc -l\n",
    "\n",
    "bcftools query -f'[%CHROM]\\n' cca.vcf.gz | uniq -c\n",
    "\n",
    "bcftools query -f'[%CHROM]\\n' wgs.vcf.gz | uniq -l"
   ]
  },
  {
   "attachments": {},
   "cell_type": "markdown",
   "metadata": {},
   "source": [
    "## statistics"
   ]
  },
  {
   "cell_type": "code",
   "execution_count": null,
   "metadata": {
    "vscode": {
     "languageId": "plaintext"
    }
   },
   "outputs": [],
   "source": [
    "Getting Fst population statistics\n",
    "\n",
    "VCFtools can also calculate Fst statistics between individuals of different populations. It is an estimate calculated in accordance to Weir and Cockerham’s 1984 paper. The user must supply text files that contain lists of individuals (one per line) that are members of each population. The function will work with multiple populations if multiple --weir-fst-pop arguments are used. The following example shows how to calculate a per-site Fst calculation with two populations. Other arguments can be used in conjunction with this function, such as --fst-window-size and --fst-window-step. --fst-window-size 1000 and --fst-window-step 500\n",
    "\n",
    "vcftools --gzvcf wgs.vcf.gz --weir-fst-pop sbpa.txt --weir-fst-pop cca.txt --fst-window-size 1000 --fst-window-step 500 --out sbpa_vs_cca"
   ]
  },
  {
   "attachments": {},
   "cell_type": "markdown",
   "metadata": {},
   "source": [
    "then i will use vcf tools to calculate nucleotide diversity\n",
    "\n",
    "vcftools --vcf - --site-pi --positions SNP_list.txt --out nucleotide_diversity\n",
    "\n",
    "then i will use vcftools to calculate theta\n",
    "\n",
    "vcftools --vcf - --TajimaD 10000 --out theta\n",
    "\n",
    "then i will use vcftools to calculate LD per chromosome \n",
    "\n",
    "vcftools --vcf - --hap-r2 --ld-window-bp 100000 --out LD\n",
    "\n",
    "then i will use vcftools to calculate fst\n",
    "\n",
    "vcftools --vcf - --weir-fst-pop cca.txt --weir-fst-pop sbpa.txt --out fst\n",
    "    \n"
   ]
  },
  {
   "attachments": {},
   "cell_type": "markdown",
   "metadata": {},
   "source": [
    "from https://vcftools.sourceforge.net/documentation.html#freq\n",
    "\n",
    "Getting allele frequency\n",
    "\n",
    "To determine the frequency of each allele over all individuals in a VCF file, the --freq argument is used.\n",
    "\n",
    "./vcftools --vcf input_data.vcf --freq --out output\n",
    "\n",
    "The output file will be written to output.frq.\n",
    "Getting sequencing depth information\n",
    "\n",
    "Another useful output function summarizes sequencing depth for each individual or for each site. Just like the allele frequency example above, this output function follows the same basic model.\n",
    "\n",
    "./vcftools --vcf input_data.vcf --depth -c > depth_summary.txt\n",
    "\n",
    "With VCFtools, you can use many combinations of filters and an output function. For example, to write out site-wise sequence depths only at sites that have no missing data, include the --max-missing argument.\n",
    "\n",
    "./vcftools --vcf input_data.vcf --site-depth --max-missing 1.0 --out site_depth_summary\n",
    "\n",
    "\n",
    "Getting linkage disequilibrium statistics\n",
    "\n",
    "Linkage disequilibrium between sites can be determined as well. This is accomplished using the --hap-r2, --geno-r2, or --geno-chisq arguments. Since the program must do pairwise site comparisons, this analysis can be time consuming, so it is recommended to filter the sites first or use one of the other options (--ld-window, --ld-window-bp or --min-r2) to reduce the number of comparisons. In this example, the VCFtools will only compare sites within 50,000 base pairs of one another.\n",
    "\n",
    "./vcftools --vcf input_data.vcf --hap-r2 --ld-window-bp 50000 --out ld_window_50000\n",
    "\n",
    "\n",
    "Getting Fst population statistics\n",
    "\n",
    "VCFtools can also calculate Fst statistics between individuals of different populations. It is an estimate calculated in accordance to Weir and Cockerham’s 1984 paper. The user must supply text files that contain lists of individuals (one per line) that are members of each population. The function will work with multiple populations if multiple --weir-fst-pop arguments are used. The following example shows how to calculate a per-site Fst calculation with two populations. Other arguments can be used in conjunction with this function, such as --fst-window-size and --fst-window-step.\n",
    "\n",
    "./vcftools --vcf input_data.vcf --weir-fst-pop population_1.txt --weir-fst-pop population_2.txt --out pop1_vs_pop2"
   ]
  }
 ],
 "metadata": {
  "kernelspec": {
   "display_name": "ppp_env_x86",
   "language": "python",
   "name": "python3"
  },
  "language_info": {
   "codemirror_mode": {
    "name": "ipython",
    "version": 3
   },
   "file_extension": ".py",
   "mimetype": "text/x-python",
   "name": "python",
   "nbconvert_exporter": "python",
   "pygments_lexer": "ipython3",
   "version": "3.7.12"
  },
  "vscode": {
   "interpreter": {
    "hash": "fd125518df18430d0936e52ecb7291e22b91211acfd52c6d5373b9b07bdacec8"
   }
  }
 },
 "nbformat": 4,
 "nbformat_minor": 2
}
