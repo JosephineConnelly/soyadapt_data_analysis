{
 "cells": [
  {
   "attachments": {},
   "cell_type": "markdown",
   "metadata": {},
   "source": [
    "\n",
    "# 5. split wgs data\n",
    "\n",
    "i need to split my data so that i can calculate \n",
    "\n",
    "LD\n",
    "\n",
    "nucleotide diversity\n",
    "\n",
    "theta\n",
    "\n",
    "- cca\n",
    "\n",
    "- sbpa\n",
    "\n",
    "- by chromosome"
   ]
  },
  {
   "attachments": {},
   "cell_type": "markdown",
   "metadata": {},
   "source": [
    "at /Users/josephinelovemachine/soyadapt_data_analysis_with_start_data/resources/start_data\n",
    "\n",
    "here i will copy the file and give it a new name:\n",
    "bash:\n",
    "cp cca_sbpa_filtered.vcf.gz wgs.vcf.gz\n",
    "cd \n",
    "cp intersect_filtered.vcf.gz /Users/josephinelovemachine/soyadapt_data_analysis_with_start_data/resources/start_data/snp.vcf.gz\n",
    "bcftools index wgs.vcf.gz"
   ]
  },
  {
   "attachments": {},
   "cell_type": "markdown",
   "metadata": {},
   "source": [
    "i will generate a list of the accession names in a .txt\n",
    "\n",
    "cca.txt\n",
    "sbpa.txt \n",
    "done\n",
    "\n",
    "I am at this point in my analysis i am removing the accessions 006A and 007A because they do not seem to be part of the specific sbp i am looking at although they are swedish accessions.  Therefore these accessions are excluded from the data set for the diversity analysis (H2)\n"
   ]
  },
  {
   "cell_type": "code",
   "execution_count": null,
   "metadata": {
    "vscode": {
     "languageId": "plaintext"
    }
   },
   "outputs": [],
   "source": [
    "vcftools --gzvcf wgs.vcf.gz --keep cca.txt --out cca --recode -c | bgzip -c > cca.vcf.gz  #the log is called cca.log\n",
    "bcftools index cca.vcf.gz\n",
    "\n",
    "#the same goes for sbpa\n",
    "vcftools --gzvcf wgs.vcf.gz --keep sbpa.txt --out sbpa --recode -c | bgzip -c > sbpa.vcf.gz\n",
    "bcftools index sbpa.vcf.gz \n",
    "done"
   ]
  },
  {
   "attachments": {},
   "cell_type": "markdown",
   "metadata": {},
   "source": [
    "\n",
    "\n",
    "then i will split the vcf file by chromosome\n",
    "cca_1.vcf.gz\n",
    "cca_2.vcf.gz etc."
   ]
  },
  {
   "attachments": {},
   "cell_type": "markdown",
   "metadata": {},
   "source": [
    "vcftools --gzvcf cca.vcf.gz --chr 1 --out cca_1 --recode -c | bgzip -c > cca_1.vcf.gz\n",
    "\n",
    "bcftools index cca_1.vcf.gz\n",
    "\n",
    "vcftools --gzvcf cca.vcf.gz --chr 2 --out cca_2 --recode -c | bgzip -c > cca_2.vcf.gz\n",
    "\n",
    "bcftools index cca_2.vcf.gz\n",
    "\n",
    "vcftools --gzvcf cca.vcf.gz --chr 2 --out cca_2 --recode -c | bgzip -c > cca_2.vcf.gz\n",
    "\n",
    "bcftools index cca_2.vcf.gz\n",
    "\n",
    "vcftools --gzvcf cca.vcf.gz --chr 3 --out cca_3 --recode -c | bgzip -c > cca_3.vcf.gz\n",
    "\n",
    "bcftools index cca_3.vcf.gz\n",
    "\n",
    "vcftools --gzvcf cca.vcf.gz --chr 4 --out cca_4 --recode -c | bgzip -c > cca_4.vcf.gz\n",
    "\n",
    "bcftools index cca_4.vcf.gz\n",
    "\n",
    "\n",
    "\n",
    " or\n",
    "\n",
    "bcftools view cca.vcf.gz --regions chr1 -Oz -o cca_1.vcf.gz\n",
    "\n",
    "bcftools index cca_1.vcf.gz\n",
    " \n",
    "\n",
    "\n"
   ]
  },
  {
   "cell_type": "code",
   "execution_count": null,
   "metadata": {
    "vscode": {
     "languageId": "plaintext"
    }
   },
   "outputs": [],
   "source": [
    "Getting Fst population statistics\n",
    "\n",
    "VCFtools can also calculate Fst statistics between individuals of different populations. It is an estimate calculated in accordance to Weir and Cockerham’s 1984 paper. The user must supply text files that contain lists of individuals (one per line) that are members of each population. The function will work with multiple populations if multiple --weir-fst-pop arguments are used. The following example shows how to calculate a per-site Fst calculation with two populations. Other arguments can be used in conjunction with this function, such as --fst-window-size and --fst-window-step. --fst-window-size 1000 and --fst-window-step 500\n",
    "\n",
    "vcftools --gzvcf wgs.vcf.gz --weir-fst-pop sbpa.txt --weir-fst-pop cca.txt --fst-window-size 1000 --fst-window-step 500 --out sbpa_vs_cca"
   ]
  },
  {
   "attachments": {},
   "cell_type": "markdown",
   "metadata": {},
   "source": [
    "then i will use vcf tools to calculate nucleotide diversity\n",
    "\n",
    "vcftools --vcf - --site-pi --positions SNP_list.txt --out nucleotide_diversity\n",
    "\n",
    "then i will use vcftools to calculate theta\n",
    "\n",
    "vcftools --vcf - --TajimaD 10000 --out theta\n",
    "\n",
    "then i will use vcftools to calculate LD per chromosome \n",
    "\n",
    "vcftools --vcf - --hap-r2 --ld-window-bp 100000 --out LD\n",
    "\n",
    "then i will use vcftools to calculate fst\n",
    "\n",
    "vcftools --vcf - --weir-fst-pop cca.txt --weir-fst-pop sbpa.txt --out fst\n",
    "    \n"
   ]
  },
  {
   "attachments": {},
   "cell_type": "markdown",
   "metadata": {},
   "source": [
    "from https://vcftools.sourceforge.net/documentation.html#freq\n",
    "\n",
    "Getting allele frequency\n",
    "\n",
    "To determine the frequency of each allele over all individuals in a VCF file, the --freq argument is used.\n",
    "\n",
    "./vcftools --vcf input_data.vcf --freq --out output\n",
    "\n",
    "The output file will be written to output.frq.\n",
    "Getting sequencing depth information\n",
    "\n",
    "Another useful output function summarizes sequencing depth for each individual or for each site. Just like the allele frequency example above, this output function follows the same basic model.\n",
    "\n",
    "./vcftools --vcf input_data.vcf --depth -c > depth_summary.txt\n",
    "\n",
    "With VCFtools, you can use many combinations of filters and an output function. For example, to write out site-wise sequence depths only at sites that have no missing data, include the --max-missing argument.\n",
    "\n",
    "./vcftools --vcf input_data.vcf --site-depth --max-missing 1.0 --out site_depth_summary\n",
    "\n",
    "\n",
    "Getting linkage disequilibrium statistics\n",
    "\n",
    "Linkage disequilibrium between sites can be determined as well. This is accomplished using the --hap-r2, --geno-r2, or --geno-chisq arguments. Since the program must do pairwise site comparisons, this analysis can be time consuming, so it is recommended to filter the sites first or use one of the other options (--ld-window, --ld-window-bp or --min-r2) to reduce the number of comparisons. In this example, the VCFtools will only compare sites within 50,000 base pairs of one another.\n",
    "\n",
    "./vcftools --vcf input_data.vcf --hap-r2 --ld-window-bp 50000 --out ld_window_50000\n",
    "\n",
    "\n",
    "Getting Fst population statistics\n",
    "\n",
    "VCFtools can also calculate Fst statistics between individuals of different populations. It is an estimate calculated in accordance to Weir and Cockerham’s 1984 paper. The user must supply text files that contain lists of individuals (one per line) that are members of each population. The function will work with multiple populations if multiple --weir-fst-pop arguments are used. The following example shows how to calculate a per-site Fst calculation with two populations. Other arguments can be used in conjunction with this function, such as --fst-window-size and --fst-window-step.\n",
    "\n",
    "./vcftools --vcf input_data.vcf --weir-fst-pop population_1.txt --weir-fst-pop population_2.txt --out pop1_vs_pop2"
   ]
  }
 ],
 "metadata": {
  "kernelspec": {
   "display_name": "ppp_env_x86",
   "language": "python",
   "name": "python3"
  },
  "language_info": {
   "codemirror_mode": {
    "name": "ipython",
    "version": 3
   },
   "file_extension": ".py",
   "mimetype": "text/x-python",
   "name": "python",
   "nbconvert_exporter": "python",
   "pygments_lexer": "ipython3",
   "version": "3.7.12"
  },
  "vscode": {
   "interpreter": {
    "hash": "fd125518df18430d0936e52ecb7291e22b91211acfd52c6d5373b9b07bdacec8"
   }
  }
 },
 "nbformat": 4,
 "nbformat_minor": 2
}
