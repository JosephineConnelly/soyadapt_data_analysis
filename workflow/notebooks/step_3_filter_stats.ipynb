{
 "cells": [
  {
   "attachments": {},
   "cell_type": "markdown",
   "metadata": {},
   "source": [
    " # 3. check quality of filter"
   ]
  },
  {
   "cell_type": "code",
   "execution_count": null,
   "metadata": {
    "vscode": {
     "languageId": "html"
    }
   },
   "outputs": [],
   "source": [
    "1. project name is <soyadapt_data_analysis>\n",
    "if you haven't run the startfile, run it now. [ ]\n",
    "2. Merge data for analysis []\n",
    "3. Filter and \n",
    "check quality stats\n",
    "\n"
   ]
  },
  {
   "attachments": {},
   "cell_type": "markdown",
   "metadata": {},
   "source": [
    "in GenomeDK\n",
    "soy_data_setup.yaml\n",
    "installed via mamba bcftools"
   ]
  },
  {
   "attachments": {},
   "cell_type": "markdown",
   "metadata": {},
   "source": [
    "steps needed to filter and prepare the file(s) for analysis\n",
    "I think there are two types of filters i want to do\n",
    "1. practical filter:\n",
    "\n",
    "2. quality filtering\n",
    "\n",
    "3. make statistics on the filtering"
   ]
  },
  {
   "attachments": {},
   "cell_type": "markdown",
   "metadata": {},
   "source": [
    "# 3. \n",
    "looking at missing data \n",
    "\n",
    "bcftools view -i 'F_MISSING < 0.4' founders_Gm_only.vcf.gz | bcftools stats > founders_stats.vchk | awk '/^SN/'\n",
    "generates a file: founders_stats.vchk\n",
    "plot-vcfstats founders_stats.vchk -p founders_stats/\n",
    "\n"
   ]
  },
  {
   "cell_type": "code",
   "execution_count": null,
   "metadata": {
    "vscode": {
     "languageId": "html"
    }
   },
   "outputs": [],
   "source": [
    "# an example of filtering i could do. \n",
    "Only keep variants that have been successfully genotyped in 50% of individuals, a minimum quality score of 30, and a minor allele count of 3.\n",
    "\n",
    "#accessions count before filter\n",
    "bcftools query -l founders_Gm_only.vcf.gz | wc -l\n",
    "10\n",
    "bcftools view --no-header -G -m 2 -M 2 --types snps founders_Gm_only.vcf.gz | wc -l\n",
    "41985\n",
    "\n"
   ]
  },
  {
   "cell_type": "code",
   "execution_count": null,
   "metadata": {
    "vscode": {
     "languageId": "html"
    }
   },
   "outputs": [],
   "source": [
    "#accessions count before filter\n",
    "bcftools query -l cca_sbpa_Gm_only.vcf.gz | wc -l\n",
    "572\n",
    "bcftools view --no-header -G -m 2 -M 2 --types snps cca_sbpa_Gm_only.vcf.gz | wc -l\n",
    "9677024\n",
    "\n"
   ]
  },
  {
   "cell_type": "code",
   "execution_count": null,
   "metadata": {
    "vscode": {
     "languageId": "html"
    }
   },
   "outputs": [],
   "source": []
  }
 ],
 "metadata": {
  "kernelspec": {
   "display_name": "ppp_env_x86",
   "language": "python",
   "name": "python3"
  },
  "language_info": {
   "codemirror_mode": {
    "name": "ipython",
    "version": 3
   },
   "file_extension": ".py",
   "mimetype": "text/x-python",
   "name": "python",
   "nbconvert_exporter": "python",
   "pygments_lexer": "ipython3",
   "version": "3.7.12"
  },
  "vscode": {
   "interpreter": {
    "hash": "fd125518df18430d0936e52ecb7291e22b91211acfd52c6d5373b9b07bdacec8"
   }
  }
 },
 "nbformat": 4,
 "nbformat_minor": 2
}
