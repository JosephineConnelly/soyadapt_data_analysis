{
 "cells": [
  {
   "attachments": {},
   "cell_type": "markdown",
   "metadata": {},
   "source": [
    " # 3. check quality of filter"
   ]
  },
  {
   "cell_type": "code",
   "execution_count": null,
   "metadata": {
    "vscode": {
     "languageId": "html"
    }
   },
   "outputs": [],
   "source": [
    "1. project name is <soyadapt_data_analysis>\n",
    "if you haven't run the startfile, run it now. [ ]\n",
    "2. Merge data for analysis []\n",
    "3. Filter and \n",
    "check quality stats\n",
    "\n"
   ]
  },
  {
   "attachments": {},
   "cell_type": "markdown",
   "metadata": {},
   "source": [
    "in GenomeDK\n",
    "soy_data_setup.yaml\n",
    "installed via mamba bcftools"
   ]
  },
  {
   "attachments": {},
   "cell_type": "markdown",
   "metadata": {},
   "source": [
    "steps needed to filter and prepare the file(s) for analysis\n",
    "I think there are two types of filters i want to do\n",
    "1. practical filter:\n",
    "\n",
    "2. quality filtering\n",
    "\n",
    "3. make statistics on the filtering"
   ]
  },
  {
   "attachments": {},
   "cell_type": "markdown",
   "metadata": {},
   "source": [
    "# 3. \n",
    "\n",
    "\n"
   ]
  },
  {
   "cell_type": "code",
   "execution_count": null,
   "metadata": {
    "vscode": {
     "languageId": "html"
    }
   },
   "outputs": [],
   "source": [
    "#accessions count before filter\n",
    "#founders \n",
    "#before\n",
    "bcftools query -l founders_Gm_only.vcf.gz | wc -l\n",
    "10\n",
    "#snps count before filter\n",
    "bcftools view --no-header -G -m 2 -M 2 --types snps founders_Gm_only.vcf.gz | wc -l\n",
    "41985\n",
    "\n",
    "#after\n",
    "bcftools query -l founders_qf.vcf.gz | wc -l\n",
    "10\n",
    "#snps count after filter\n",
    "bcftools view --no-header -G -m 2 -M 2 --types snps founders_qf.vcf.gz | wc -l\n",
    "41985\n",
    "\n",
    "#cca_sbpa\n",
    "#before\n",
    "bcftools query -l cca_sbpa_Gm_only.vcf.gz | wc -l\n",
    "572\n",
    "#snps count before filter\n",
    "bcftools view --no-header -G -m 2 -M 2 --types snps cca_sbpa_Gm_only.vcf.gz | wc -l\n",
    "9677024\n",
    "\n",
    "#after\n",
    "bcftools query -l cca_sbpa_qf.vcf.gz | wc -l\n",
    "\n",
    "#snps count after filter\n",
    "bcftools view --no-header -G -m 2 -M 2 --types snps cca_sbpa_qf.vcf.gz | wc -l\n",
    "\n",
    "\n",
    "\n",
    "\n"
   ]
  },
  {
   "cell_type": "code",
   "execution_count": null,
   "metadata": {
    "vscode": {
     "languageId": "html"
    }
   },
   "outputs": [],
   "source": [
    "#accessions count before filter\n",
    "bcftools query -l cca_sbpa_Gm_only.vcf.gz | wc -l\n",
    "572\n",
    "bcftools view --no-header -G -m 2 -M 2 --types snps cca_sbpa_Gm_only.vcf.gz | wc -l\n",
    "9677024\n",
    "\n"
   ]
  },
  {
   "attachments": {},
   "cell_type": "markdown",
   "metadata": {},
   "source": [
    "i can quantify the amout of missing data if i want:\n",
    "\n",
    "#quantify for missing data\n",
    "#test data\n",
    "paste \\\n",
    "<(bcftools query -f '[%SAMPLE\\t]\\n' soybean_resequencing_MQ30.vcf.gz | head -1 | tr '\\t' '\\n') \\\n",
    "<(bcftools query -f '[%GT\\t]\\n' soybean_resequencing_MQ30.vcf.gz | awk -v OFS=\"\\t\" '{for (i=1;i<=NF;i++) if ($i == \"./.\") sum[i]+=1 } END {for (i in sum) print i, sum[i] / NR }' | sort -k1,1n | cut -f 2)\n",
    "\n",
    "# the other data\n",
    "paste \\\n",
    "<(bcftools query -f '[%SAMPLE\\t]\\n' cca_sbpa_Gm_only.vcf.gz | head -1 | tr '\\t' '\\n') \\\n",
    "<(bcftools query -f '[%GT\\t]\\n' cca_sbpa_Gm_only.vcf.gz | awk -v OFS=\"\\t\" '{for (i=1;i<=NF;i++) if ($i == \"./.\") sum[i]+=1 } END {for (i in sum) print i, sum[i] / NR }' | sort -k1,1n | cut -f 2)\n",
    "\n",
    "paste \\\n",
    "<(bcftools query -f '[%SAMPLE\\t]\\n' founders_Gm_only.vcf.gz | head -1 | tr '\\t' '\\n') \\\n",
    "<(bcftools query -f '[%GT\\t]\\n' founders_Gm_only.vcf.gz | awk -v OFS=\"\\t\" '{for (i=1;i<=NF;i++) if ($i == \"./.\") sum[i]+=1 } END {for (i in sum) print i, sum[i] / NR }' | sort -k1,1n | cut -f 2)\n",
    "# the filtered file should also be indexed now. "
   ]
  },
  {
   "attachments": {},
   "cell_type": "markdown",
   "metadata": {},
   "source": [
    "Look at MAF?"
   ]
  }
 ],
 "metadata": {
  "kernelspec": {
   "display_name": "ppp_env_x86",
   "language": "python",
   "name": "python3"
  },
  "language_info": {
   "codemirror_mode": {
    "name": "ipython",
    "version": 3
   },
   "file_extension": ".py",
   "mimetype": "text/x-python",
   "name": "python",
   "nbconvert_exporter": "python",
   "pygments_lexer": "ipython3",
   "version": "3.7.12"
  },
  "vscode": {
   "interpreter": {
    "hash": "fd125518df18430d0936e52ecb7291e22b91211acfd52c6d5373b9b07bdacec8"
   }
  }
 },
 "nbformat": 4,
 "nbformat_minor": 2
}
