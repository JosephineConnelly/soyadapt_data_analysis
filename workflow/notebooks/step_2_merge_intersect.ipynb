{
 "cells": [
  {
   "attachments": {},
   "cell_type": "markdown",
   "metadata": {},
   "source": [
    "# 2. Merge data for analysis \n",
    "Section 1. \n",
    "intersect \n",
    "\n",
    "\n",
    "\n"
   ]
  },
  {
   "attachments": {},
   "cell_type": "markdown",
   "metadata": {},
   "source": [
    "I made an environment on the cluster called soy_data_setup \n",
    "programs \n",
    "bcftools\n",
    "vcftools\n",
    "see conda list -n soy_data_setup\n",
    "and look in workflow/envs for the soy_data_setup.yaml"
   ]
  },
  {
   "attachments": {},
   "cell_type": "markdown",
   "metadata": {
    "vscode": {
     "languageId": "shellscript"
    }
   },
   "source": [
    "Here im going to generate the files needed for the analysis by intersecting not imputing.\n"
   ]
  },
  {
   "attachments": {},
   "cell_type": "markdown",
   "metadata": {},
   "source": [
    "data:\n",
    "soysnp50k_wm82.a2_41317.vcf.gz\n",
    "and \n",
    "cca_sbpa.vcf.gz\n",
    "\n"
   ]
  },
  {
   "cell_type": "code",
   "execution_count": null,
   "metadata": {
    "vscode": {
     "languageId": "shellscript"
    }
   },
   "outputs": [],
   "source": [
    "bcftools index soysnp50k_wm82.a2_41317.vcf.gz\n",
    "\n",
    "bcftools view -S founders.txt soysnp50k_wm82.a2_41317.vcf.gz -Oz -o founders.vcf.gz\n",
    "\n",
    "bcftools index founders.vcf.gz"
   ]
  },
  {
   "attachments": {},
   "cell_type": "markdown",
   "metadata": {},
   "source": [
    "I need the chromosomes to be called the same in both files"
   ]
  },
  {
   "cell_type": "code",
   "execution_count": null,
   "metadata": {
    "vscode": {
     "languageId": "shellscript"
    }
   },
   "outputs": [],
   "source": [
    "#rename chromosomes\n",
    "bcftools annotate --rename-chrs chr_names.txt founders.vcf.gz -Oz -o founders_gm.vcf.gz\n",
    "\n",
    "#index\n",
    "bcftools index founders_gm.vcf.gz\n",
    "\n",
    "#only include chromosomes\n",
    "bcftools view founders_gm.vcf.gz --regions Gm01,Gm02,Gm03,Gm04,Gm05,Gm06,Gm07,Gm08,Gm09,Gm10,Gm11,Gm12,Gm13,Gm14,Gm15,Gm16,Gm17,Gm18,Gm19,Gm20 -Oz -o founders_Gm_only.vcf.gz\n",
    "\n",
    "bcftools index founders_Gm_only.vcf.gz\n",
    "\n",
    "#check\n",
    "bcftools query -l founders_Gm_only.vcf.gz\n",
    "bcftools query -f '%CHROM\\n' founders_Gm_only.vcf.gz|uniq"
   ]
  },
  {
   "attachments": {},
   "cell_type": "markdown",
   "metadata": {},
   "source": [
    "how meny positions SNPs are there?\n",
    "bcftools query -f '%POS\\n' cca_sbpa_Gm_only.vcf.gz | wc -l\n",
    "9677024\n",
    "founders_gm.vcf.gz\n",
    "42195"
   ]
  },
  {
   "attachments": {},
   "cell_type": "markdown",
   "metadata": {},
   "source": [
    "Do the same with the bigger file with a script.\n",
    "Try to submit as job: /workflow/scripts/filter_incl_chr.sh\n",
    "sbatch filter_incl_chr.sh\n",
    "\n",
    "output is cca_sbpa_Gm_only.vcf.gz\n"
   ]
  },
  {
   "attachments": {},
   "cell_type": "markdown",
   "metadata": {},
   "source": [
    "Stats:\n",
    "\n",
    "I want to get some stats on my files at this point.\n",
    "\n",
    "file with snps: \n",
    "\n",
    "bcftools stats cca_sbpa_Gm_only.vcf.gz > stats_cca.vchk\n",
    "\n",
    "plot-vcfstats file.vchk -p plots/\n",
    "\n"
   ]
  },
  {
   "attachments": {},
   "cell_type": "markdown",
   "metadata": {},
   "source": [
    "Now i will intersect the two files so as to merge them and only retain the 50k SNP sequence. "
   ]
  },
  {
   "cell_type": "code",
   "execution_count": null,
   "metadata": {
    "vscode": {
     "languageId": "shellscript"
    }
   },
   "outputs": [],
   "source": [
    "#see isec.sh in scripts directory\n",
    "\n",
    "bcftools isec cca_sbpa_Gm_only.vcf.gz founders_Gm_only.vcf.gz -p output_dir\n",
    "\n",
    "#the second file generated called 0002.vcf.gz contains the SNPs that are present in both input files.\n",
    "\n",
    "bcftools view output_dir/0002.vcf.gz -o intersect_cca_sbpa_f.vcf.gz -Oz\n",
    "\n"
   ]
  }
 ],
 "metadata": {
  "kernelspec": {
   "display_name": "ppp_env_x86",
   "language": "python",
   "name": "python3"
  },
  "language_info": {
   "codemirror_mode": {
    "name": "ipython",
    "version": 3
   },
   "file_extension": ".py",
   "mimetype": "text/x-python",
   "name": "python",
   "nbconvert_exporter": "python",
   "pygments_lexer": "ipython3",
   "version": "3.7.12"
  },
  "vscode": {
   "interpreter": {
    "hash": "fd125518df18430d0936e52ecb7291e22b91211acfd52c6d5373b9b07bdacec8"
   }
  }
 },
 "nbformat": 4,
 "nbformat_minor": 2
}
