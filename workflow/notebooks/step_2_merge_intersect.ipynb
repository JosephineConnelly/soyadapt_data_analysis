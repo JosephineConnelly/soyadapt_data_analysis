{
 "cells": [
  {
   "attachments": {},
   "cell_type": "markdown",
   "metadata": {},
   "source": [
    "# 2. Merge data for analysis \n",
    "Section 1. \n",
    "intersect \n",
    "\n",
    "\n",
    "\n"
   ]
  },
  {
   "attachments": {},
   "cell_type": "markdown",
   "metadata": {},
   "source": [
    "I made an environment on the cluster called soy_data_setup \n",
    "programs \n",
    "bcftools\n",
    "vcftools\n",
    "see conda list -n soy_data_setup\n",
    "and look in workflow/envs for the soy_data_setup.yaml"
   ]
  },
  {
   "cell_type": "markdown",
   "metadata": {},
   "source": []
  },
  {
   "attachments": {},
   "cell_type": "markdown",
   "metadata": {
    "vscode": {
     "languageId": "shellscript"
    }
   },
   "source": [
    "Here im going to generate the files needed for the analysis by intersecting not imputing.\n"
   ]
  },
  {
   "cell_type": "code",
   "execution_count": null,
   "metadata": {
    "vscode": {
     "languageId": "shellscript"
    }
   },
   "outputs": [],
   "source": [
    "# Data:\n",
    "soysnp50k_wm82.a2_41317.vcf.gz \n",
    "cca_sbpa.vcf.gz # Wgs data as filtered in the steps before as indicated in the file name step1_wgs_filter.\n"
   ]
  },
  {
   "cell_type": "code",
   "execution_count": null,
   "metadata": {
    "vscode": {
     "languageId": "shellscript"
    }
   },
   "outputs": [],
   "source": [
    "bcftools index soysnp50k_wm82.a2_41317.vcf.gz\n",
    "\n",
    "bcftools view -S founders.txt soysnp50k_wm82.a2_41317.vcf.gz -Oz -o founders.vcf.gz\n",
    "\n",
    "bcftools index founders.vcf.gz"
   ]
  },
  {
   "attachments": {},
   "cell_type": "markdown",
   "metadata": {},
   "source": [
    "I need the chromosomes to be called the same in both files"
   ]
  },
  {
   "cell_type": "code",
   "execution_count": null,
   "metadata": {
    "vscode": {
     "languageId": "shellscript"
    }
   },
   "outputs": [],
   "source": [
    "#rename chromosomes\n",
    "bcftools annotate --rename-chrs chr_names.txt founders.vcf.gz -Oz -o founders_gm.vcf.gz\n",
    "\n",
    "#index\n",
    "bcftools index founders_gm.vcf.gz\n",
    "\n",
    "#only include chromosomes\n",
    "bcftools view founders_gm.vcf.gz --regions Gm01,Gm02,Gm03,Gm04,Gm05,Gm06,Gm07,Gm08,Gm09,Gm10,Gm11,Gm12,Gm13,Gm14,Gm15,Gm16,Gm17,Gm18,Gm19,Gm20 -Oz -o founders_Gm_only.vcf.gz\n",
    "\n",
    "bcftools index founders_Gm_only.vcf.gz\n",
    "\n",
    "#check\n",
    "bcftools query -l founders_Gm_only.vcf.gz\n",
    "bcftools query -f '%CHROM\\n' founders_Gm_only.vcf.gz|uniq"
   ]
  },
  {
   "cell_type": "code",
   "execution_count": null,
   "metadata": {
    "vscode": {
     "languageId": "shellscript"
    }
   },
   "outputs": [],
   "source": [
    "#how meny positions SNPs are there?\n",
    "bcftools query -f '%POS\\n' cca_sbpa_Gm_only.vcf.gz | wc -l\n",
    "#9677024\n",
    "founders_gm.vcf.gz\n",
    "#42195"
   ]
  },
  {
   "attachments": {},
   "cell_type": "markdown",
   "metadata": {},
   "source": [
    "Do the same with the bigger file with a script.\n",
    "Try to submit as job: /workflow/scripts/filter_incl_chr.sh\n",
    "sbatch filter_incl_chr.sh\n",
    "\n",
    "output is cca_sbpa_Gm_only.vcf.gz\n"
   ]
  },
  {
   "attachments": {},
   "cell_type": "markdown",
   "metadata": {},
   "source": [
    "Stats:\n",
    "\n",
    "I want to get some stats on my files at this point.\n",
    "\n",
    "file with snps: \n",
    "\n",
    "bcftools stats cca_sbpa_Gm_only.vcf.gz > stats_cca.vchk\n",
    "\n",
    "plot-vcfstats file.vchk -p plots/\n",
    "\n"
   ]
  },
  {
   "attachments": {},
   "cell_type": "markdown",
   "metadata": {},
   "source": [
    "Now i will intersect the two files so as to merge them and only retain the 50k SNP sequence. "
   ]
  },
  {
   "cell_type": "code",
   "execution_count": null,
   "metadata": {
    "vscode": {
     "languageId": "shellscript"
    }
   },
   "outputs": [],
   "source": [
    "#see intersect.sh in scripts directory\n",
    "#then intersect_merge.sh"
   ]
  },
  {
   "cell_type": "code",
   "execution_count": null,
   "metadata": {
    "vscode": {
     "languageId": "shellscript"
    }
   },
   "outputs": [],
   "source": [
    "#when the intersect and merge is done i can check how many snps i have \n",
    "bcftools view --no-header -G -m 2 -M 2 --types snps intersect.vcf.gz | wc -l\n",
    "#36515\n",
    "#should be around 40000! check!\n",
    "\n",
    "#and that i have 10+572 samples\n",
    "bcftools query -l intersect.vcf.gz | wc -l\n",
    "#582! \n",
    "#check!"
   ]
  },
  {
   "attachments": {},
   "cell_type": "markdown",
   "metadata": {},
   "source": [
    "go to R!.... for the PCA!\n",
    "insert R script?"
   ]
  },
  {
   "attachments": {},
   "cell_type": "markdown",
   "metadata": {},
   "source": [
    "come back to remove accession with missing data\n",
    "and remove missingdata over 5%\n",
    "and change chr names "
   ]
  },
  {
   "attachments": {},
   "cell_type": "markdown",
   "metadata": {},
   "source": [
    "Look for accessions with too much missing data:\n",
    "(bcftools query -f '[%GT\\t]\\n' intersect.vcf.gz | awk -v OFS=\"\\t\" '{for (i=1;i<=NF;i++) if ($i == \"./.\") sum[i]+=1 } END {for (i in sum) print i, sum[i] / NR }' | sort -k1,1n | cut -f 2)\n",
    "\n",
    "I have one accession (064A) that has 31.50% missing data\n",
    "the rest have 2.62% missing data or under\n",
    "See resources/generated_data/accessions_missing_data.xlsx"
   ]
  },
  {
   "cell_type": "code",
   "execution_count": null,
   "metadata": {
    "vscode": {
     "languageId": "shellscript"
    }
   },
   "outputs": [],
   "source": [
    "# filtering \n",
    "# remove missing data 5% snps and rename chromosomes to numbers for R\n",
    "# remove 199A, 334A, 574A due to missing metadata like MG\n",
    "# Remove accessions with missing data > 5% (0.05) that is one sample: accession 064A\n",
    "# /Users/josephinelovemachine/soyadapt_data_analysis_with_start_data/resources/generated_data/intersect.vcf.gz\n",
    "# /Users/josephinelovemachine/soyadapt_data_analysis/resources/generated_data/meta_data/Gm01_01.txt\n",
    "\n",
    "bcftools filter -e \"F_MISSING>0.05\" /Users/josephinelovemachine/soyadapt_data_analysis_with_start_data/resources/generated_data/intersect.vcf.gz -Ou | bcftools annotate --rename-chrs /Users/josephinelovemachine/soyadapt_data_analysis/resources/generated_data/meta_data/Gm01_1.txt -Ou | bcftools view -S ^/Users/josephinelovemachine/soyadapt_data_analysis/resources/start_data/metadata/remove_accessions.txt -Oz -o intersect_filtered.vcf.gz\n",
    "\n",
    "bcftools index intersect_filtered.vcf.gz"
   ]
  },
  {
   "attachments": {},
   "cell_type": "markdown",
   "metadata": {},
   "source": [
    "#before filtering\n",
    "bcftools view --no-header -G -m 2 -M 2 --types snps intersect.vcf.gz | wc -l\n",
    "36515\n",
    "#after filtering\n",
    "bcftools view --no-header -G -m 2 -M 2 --types snps intersect_filtered.vcf.gz | wc -l\n",
    "35486\n",
    "bcftools query -l intersect_filtered.vcf.gz | wc -l\n",
    "#should be 574 and is"
   ]
  },
  {
   "cell_type": "markdown",
   "metadata": {},
   "source": [
    "# new intersect"
   ]
  },
  {
   "cell_type": "markdown",
   "metadata": {},
   "source": [
    "Here along the way via pedegree info i found more potential founders. "
   ]
  },
  {
   "cell_type": "markdown",
   "metadata": {},
   "source": [
    "i also found many interesting swedish accessions in grin global and so maybe part of the snp data so i will make a new intersect "
   ]
  },
  {
   "cell_type": "code",
   "execution_count": null,
   "metadata": {
    "vscode": {
     "languageId": "shellscript"
    }
   },
   "outputs": [],
   "source": [
    "# Data:\n",
    "# zip and index \n",
    "bgzip -c soysnp50k_wm82.a2_41317.vcf > soysnp50k_wm82.a2_41317.vcf.gz\n",
    "bcftools index soysnp50k_wm82.a2_41317.vcf.gz\n",
    "bcftools index wgs_maf5.vcf.gz\n",
    "\n",
    "snp50k=/Users/josephinelovemachine/soyadapt_data_analysis_with_start_data/resources/start_data/soysnp50k_wm82.a2_41317.vcf.gz \n",
    "wgs_maf5=/Users/josephinelovemachine/soyadapt_data_analysis_with_start_data/resources/start_data/wgs_maf5.vcf.gz\n",
    "\n",
    "# what have i got?\n",
    "bcftools query -f '%CHROM\\n' wgs_maf5.vcf.gz | uniq\n",
    "bcftools query -f '%CHROM\\n' soysnp50k_wm82.a2_41317.vcf.gz | uniq\n",
    "\n",
    "# Chr1...Chr20\n",
    "# 1...20\n",
    "# i need to change the names of the chromsomes in my snp file to match the wgs file\n",
    "\n",
    "#change chromsome names in 50ksnp file\n",
    "bcftools annotate --rename-chrs chr.txt soysnp50k_wm82.a2_41317.vcf.gz -Oz -o soysnp50k_wm82.a2.vcf.gz\n",
    "\n",
    "bcftools index soysnp50k_wm82.a2.vcf.gz\n",
    "\n",
    "bcftools query -f '%CHROM\\n' soysnp50k_wm82.a2.vcf.gz | uniq\n",
    "\n",
    "\n",
    "#extract is accession are in the 50ksnp file that i will use in my intersect\n",
    "\n",
    "bcftools view -S intersect_accessions.txt soysnp50k_wm82.a2.vcf.gz --force-samples -Oz -o intersect_accessions.vcf.gz\n",
    "bcftools index intersect_accessions.vcf.gz"
   ]
  },
  {
   "cell_type": "code",
   "execution_count": null,
   "metadata": {
    "vscode": {
     "languageId": "shellscript"
    }
   },
   "outputs": [],
   "source": [
    "# check\n",
    "bcftools query -f '%CHROM\\n' intersect_accessions.vcf.gz | uniq\n",
    "bcftools query -l intersect_accessions.vcf.gz"
   ]
  },
  {
   "cell_type": "code",
   "execution_count": null,
   "metadata": {
    "vscode": {
     "languageId": "shellscript"
    }
   },
   "outputs": [],
   "source": [
    "#intersect the two files\n",
    "bcftools isec wgs_maf5.vcf.gz intersect_accessions.vcf.gz -p output_dir\n",
    "\n",
    "#merge\n",
    "\n",
    "#the second file generated called 0002.vcf.gz contains the SNPs that are present in the first input file but not in the second input file.\n",
    "\n",
    "#the third file generated called 0003.vcf.gz contains the SNPs that are present in the second input file but not in the first input file.\n",
    "\n",
    "#to get the intersection of the two files we need to merge the second and third file. The --merge all option will merge the two files and keep only the SNPs that are present in both files.\n",
    "cd output_dir\n",
    "\n",
    "bgzip < 0002.vcf > 0002.vcf.gz\n",
    "bgzip < 0003.vcf > 0003.vcf.gz\n",
    "bcftools index 0002.vcf.gz\n",
    "bcftools index 0003.vcf.gz\n",
    "\n",
    "bcftools merge --merge all 0002.vcf.gz 0003.vcf.gz -Oz -o intersect.vcf.gz\n",
    "# check \n",
    "bcftools query -f '%CHROM\\n' intersect.vcf.gz | uniq\n",
    "\n",
    "rm 0000.vcf\n",
    "rm 0001.vcf\n",
    "rm 0002.vcf\n",
    "rm 0003.vcf\n",
    "\n",
    "\n",
    "bcftools index /home/joco/faststorage/data_analysis_soy/output_dir/intersect2.vcf.gz"
   ]
  },
  {
   "cell_type": "code",
   "execution_count": null,
   "metadata": {
    "vscode": {
     "languageId": "shellscript"
    }
   },
   "outputs": [],
   "source": [
    "#when the intersect and merge is done i can check how many snps i have \n",
    "bcftools view --no-header -G -m 2 -M 2 --types snps intersect2.vcf.gz | wc -l\n",
    "#36515\n",
    "#should be around 40000! check!\n",
    "\n",
    "#and that i have 10+572 samples\n",
    "bcftools query -l intersect2.vcf.gz | wc -l\n",
    "#582! \n",
    "#check!"
   ]
  }
 ],
 "metadata": {
  "kernelspec": {
   "display_name": "ppp_env_x86",
   "language": "python",
   "name": "python3"
  },
  "language_info": {
   "codemirror_mode": {
    "name": "ipython",
    "version": 3
   },
   "file_extension": ".py",
   "mimetype": "text/x-python",
   "name": "python",
   "nbconvert_exporter": "python",
   "pygments_lexer": "ipython3",
   "version": "3.7.12"
  },
  "vscode": {
   "interpreter": {
    "hash": "fd125518df18430d0936e52ecb7291e22b91211acfd52c6d5373b9b07bdacec8"
   }
  }
 },
 "nbformat": 4,
 "nbformat_minor": 2
}
