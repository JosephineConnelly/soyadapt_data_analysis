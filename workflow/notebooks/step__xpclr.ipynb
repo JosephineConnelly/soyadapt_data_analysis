{
 "cells": [
  {
   "attachments": {},
   "cell_type": "markdown",
   "metadata": {},
   "source": [
    "\n",
    "# ?. XP-CLR"
   ]
  },
  {
   "attachments": {},
   "cell_type": "markdown",
   "metadata": {},
   "source": [
    "For VG + XP-CLR i work on the GenomeDK cluster\n",
    "\n",
    "conda activate vg_env \n",
    "\n",
    "mamba install xpclr"
   ]
  },
  {
   "attachments": {},
   "cell_type": "markdown",
   "metadata": {},
   "source": [
    "i put the data here:\n",
    "joco/faststorage/data_analysis_soy\n",
    "joco/practice/test_data\n",
    "\n",
    "\n",
    "\n",
    "\n",
    "Does the file need to be tabbed?\n",
    "tabix -p vcf x.vcf.gz"
   ]
  }
 ],
 "metadata": {
  "kernelspec": {
   "display_name": "ppp_env_x86",
   "language": "python",
   "name": "python3"
  },
  "language_info": {
   "codemirror_mode": {
    "name": "ipython",
    "version": 3
   },
   "file_extension": ".py",
   "mimetype": "text/x-python",
   "name": "python",
   "nbconvert_exporter": "python",
   "pygments_lexer": "ipython3",
   "version": "3.7.12"
  },
  "vscode": {
   "interpreter": {
    "hash": "fd125518df18430d0936e52ecb7291e22b91211acfd52c6d5373b9b07bdacec8"
   }
  }
 },
 "nbformat": 4,
 "nbformat_minor": 2
}
