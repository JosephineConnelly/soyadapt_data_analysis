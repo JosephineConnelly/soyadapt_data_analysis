{
 "cells": [
  {
   "attachments": {},
   "cell_type": "markdown",
   "metadata": {},
   "source": [
    "\n",
    "# ?. VG"
   ]
  },
  {
   "attachments": {},
   "cell_type": "markdown",
   "metadata": {},
   "source": [
    "For VG i work on the GenomeDK cluster\n",
    "\n",
    "Made a new environment in genomedk\n",
    "\n",
    "dependacies: https://github.com/vgteam/vg\n",
    "\n",
    "ON GENOMEDK: conda create -n vg_env python=3.7.7 pysam\n",
    "\n",
    "i updated conda and python got updated to python=3.9.16\n",
    "\n",
    "gcc --version (gcc (GCC) 4.8.5 20150623) (has to be 14?)\n",
    "automake --version (automake (GNU automake) 1.13.4)\n",
    "libtool --version (libtool (GNU libtool) 2.4.2)\n",
    "jq --version\n",
    "jansson --version\n",
    "coreutils --version\n",
    "\n",
    "mamba search jq\n",
    "mamba search jansson \n",
    "mamba search coreutils\n",
    "\n",
    "mamba install jq\n",
    "mamba install jansson \n",
    "mamba install coreutils\n",
    "mamba install samtools\n",
    "mamba install vg"
   ]
  },
  {
   "attachments": {},
   "cell_type": "markdown",
   "metadata": {},
   "source": [
    "\n",
    "i want to clone my github to the cluster...\n",
    "\n",
    "i put the data here:\n",
    "mkdir joco/faststorage/data_analysis_soy\n",
    "\n",
    "but its slow, so right now im also working the small files via /joco/practice/testdata\n",
    "\n",
    "Do i need a .vcf.gz.idx? file?\n",
    " tabix -p vcf x.vcf.gz"
   ]
  }
 ],
 "metadata": {
  "kernelspec": {
   "display_name": "ppp_env_x86",
   "language": "python",
   "name": "python3"
  },
  "language_info": {
   "codemirror_mode": {
    "name": "ipython",
    "version": 3
   },
   "file_extension": ".py",
   "mimetype": "text/x-python",
   "name": "python",
   "nbconvert_exporter": "python",
   "pygments_lexer": "ipython3",
   "version": "3.7.12"
  },
  "vscode": {
   "interpreter": {
    "hash": "fd125518df18430d0936e52ecb7291e22b91211acfd52c6d5373b9b07bdacec8"
   }
  }
 },
 "nbformat": 4,
 "nbformat_minor": 2
}
