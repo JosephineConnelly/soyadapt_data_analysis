{
 "cells": [
  {
   "attachments": {},
   "cell_type": "markdown",
   "metadata": {},
   "source": [
    "# File conversion"
   ]
  },
  {
   "attachments": {},
   "cell_type": "markdown",
   "metadata": {},
   "source": [
    "Make sure dependencies and env are as it should be"
   ]
  },
  {
   "attachments": {},
   "cell_type": "markdown",
   "metadata": {},
   "source": [
    "ppp_env_x86.yaml / soyadapt_env_x86"
   ]
  },
  {
   "cell_type": "code",
   "execution_count": 1,
   "metadata": {},
   "outputs": [
    {
     "ename": "ImportError",
     "evalue": "cannot import name 'vcf_format_conversions' from 'pgpipe' (/opt/homebrew/anaconda3/envs/ppp_env_x86/lib/python3.7/site-packages/pgpipe/__init__.py)",
     "output_type": "error",
     "traceback": [
      "\u001b[0;31m---------------------------------------------------------------------------\u001b[0m",
      "\u001b[0;31mImportError\u001b[0m                               Traceback (most recent call last)",
      "\u001b[0;32m/var/folders/1h/nb7x81q15l172nmf3p9pct640000gp/T/ipykernel_9962/830865902.py\u001b[0m in \u001b[0;36m<module>\u001b[0;34m\u001b[0m\n\u001b[1;32m      3\u001b[0m \u001b[0;32mimport\u001b[0m \u001b[0msubprocess\u001b[0m\u001b[0;34m\u001b[0m\u001b[0;34m\u001b[0m\u001b[0m\n\u001b[1;32m      4\u001b[0m \u001b[0;34m\u001b[0m\u001b[0m\n\u001b[0;32m----> 5\u001b[0;31m \u001b[0;32mfrom\u001b[0m \u001b[0mpgpipe\u001b[0m \u001b[0;32mimport\u001b[0m \u001b[0mvcf_format_conversions\u001b[0m\u001b[0;34m\u001b[0m\u001b[0;34m\u001b[0m\u001b[0m\n\u001b[0m\u001b[1;32m      6\u001b[0m \u001b[0;32mimport\u001b[0m \u001b[0mpysam\u001b[0m\u001b[0;34m\u001b[0m\u001b[0;34m\u001b[0m\u001b[0m\n\u001b[1;32m      7\u001b[0m \u001b[0;34m\u001b[0m\u001b[0m\n",
      "\u001b[0;31mImportError\u001b[0m: cannot import name 'vcf_format_conversions' from 'pgpipe' (/opt/homebrew/anaconda3/envs/ppp_env_x86/lib/python3.7/site-packages/pgpipe/__init__.py)"
     ]
    }
   ],
   "source": [
    "import sys\n",
    "import os\n",
    "import subprocess\n",
    "\n",
    "from pgpipe import vcf_format_conversions\n",
    "import pysam\n",
    "\n",
    "print (\"Imports complete\")"
   ]
  },
  {
   "attachments": {},
   "cell_type": "markdown",
   "metadata": {},
   "source": [
    "vcf_format_conversions.py"
   ]
  },
  {
   "cell_type": "code",
   "execution_count": null,
   "metadata": {},
   "outputs": [],
   "source": [
    "#define project name\n",
    "#project_name = 'projectname'\n",
    "project_name = 'soyadapt_data_analysis' # [ ] \n",
    "\n",
    "import os.path\n",
    "path = '/Users/josephinelovemachine'\n",
    "full_path = os.path.expanduser(path)\n",
    "print (full_path)\n",
    "# set home directory\n",
    "# ~/<projectname>/\n",
    "home_dir = os.path.join( full_path, project_name)\n",
    "print (home_dir)\n",
    "print (\"home directory defined\")\n"
   ]
  },
  {
   "cell_type": "code",
   "execution_count": null,
   "metadata": {
    "collapsed": true
   },
   "outputs": [],
   "source": [
    "#Set up directories and filepaths, run on all restarts\n",
    "config_dir = home_dir + '/config/'\n",
    "results_dir = home_dir + '/results/'\n",
    "workflow_dir = home_dir + '/workflow/' \n",
    "notebook_dir = workflow_dir + '/notebooks/' #WHE RE THIS NOTEBOOK SHOULD BE [ ]\n",
    "# my working dir is where my data is ~/project_name/resources/\n",
    "work_dir = home_dir + '/resources/'\n",
    "#start data files:'\n",
    "data_dir= work_dir +'start_data/' # my main_vcf_data is here\n",
    "#generated data files:\n",
    "data_generated = work_dir + 'generated_data/'\n",
    "#generated data files:\n",
    "logfile = data_generated+'logfiles/'\n",
    "\n",
    "#Define start data file and data name:\n",
    "data_name = 'soysnp50k' #CHANGE THIS TO YOUR DATA (file) NAME!! [ ]\n",
    "main_vcf_data = data_dir+'soysnp50k.vcf.gz' #start data name and location\n",
    "\n",
    "# ADDED Metadata from start\n",
    "#chromosomes list\n",
    "list_vcf_name_chr = data_dir+'soysnp50k_list_vcf_name_chr'\n",
    "# string of all 20 chromosomes named chr\n",
    "chr_all = data_dir+'chr.txt' \n",
    "# The 50k snps list \n",
    "list_snp_locations_50k = data_dir+'soysnp50k_ist_snp_locations_50k'\n",
    "# metadata list:\n",
    "list_vcf_name_country = data_dir+'soysnp50k_list_vcf_name_country'\n",
    "list_vcf_name_maturitygroup = data_dir+'soysnp50k_list_vcf_name_maturitygroup'\n",
    "#list of accessions + population(CCA/SA/Founders) + country + maturity group\n",
    "list_vcf_name_collected = data_dir+'soysnp50k_list_vcf_name_collected'\n",
    "#data files lists so they are named accordingly when generated or added to the project:\n",
    "list_vcf_name_sa= data_dir+'soysnp50k_list_vcf_name_sa'\n",
    "list_vcf_name_cca= data_dir+'soysnp50k_list_vcf_name_cca'\n",
    "list_vcf_name_founders= data_dir+'soysnp50k_list_vcf_name_founders'\n",
    "\n",
    "loci=50000\n",
    "# print check directories and files\n",
    "print(work_dir)\n",
    "print(data_dir)\n",
    "print(data_generated)\n"
   ]
  },
  {
   "cell_type": "code",
   "execution_count": null,
   "metadata": {
    "collapsed": true
   },
   "outputs": [],
   "source": [
    "#Set up directory structure, only needs to be run once\n",
    "if not os.path.exists(config_dir):\n",
    "    os.makedirs(config_dir)\n",
    "if not os.path.exists(results_dir):\n",
    "    os.makedirs(results_dir)\n",
    "if not os.path.exists(workflow_dir):\n",
    "    os.makedirs(workflow_dir)\n",
    "if not os.path.exists(notebook_dir):\n",
    "    os.makedirs(notebook_dir)            \n",
    "if not os.path.exists(work_dir):\n",
    "    os.makedirs(work_dir)\n",
    "if not os.path.exists(work_dir+'generated_data/'):\n",
    "    os.makedirs(work_dir+'generated_data/')\n",
    "if not os.path.exists(data_dir):\n",
    "    os.makedirs(work_dir+'start_data/')\n",
    "if not os.path.exists(data_generated):\n",
    "    os.makedirs(data_generated)\n",
    "if not os.path.exists(data_generated+'logfiles/'):\n",
    "    os.makedirs(data_generated+'logfiles/')\n",
    "# add files for the project that dont need and workflow access\n",
    "if not os.path.exists(workflow_dir+'envs/'): # envs for each workflow\n",
    "    os.makedirs(workflow_dir+'envs/')\n",
    "if not os.path.exists(workflow_dir+'scripts/'): # scripts for the project like R scripts\n",
    "    os.makedirs(workflow_dir+'scripts/')\n",
    "if not os.path.exists(workflow_dir+'notebooks/'): # this notebook is here! move now! \n",
    "    os.makedirs(workflow_dir+'notebooks/')\n",
    "if not os.path.exists(workflow_dir+'repots/'): # if not in logfile, then here\n",
    "    os.makedirs(workflow_dir+'reports/')\n",
    "\n",
    "print('move this notebook now to the notebook directory')"
   ]
  },
  {
   "cell_type": "code",
   "execution_count": null,
   "metadata": {
    "vscode": {
     "languageId": "shellscript"
    }
   },
   "outputs": [],
   "source": []
  }
 ],
 "metadata": {
  "kernelspec": {
   "display_name": "ppp_env_x86",
   "language": "python",
   "name": "python3"
  },
  "language_info": {
   "codemirror_mode": {
    "name": "ipython",
    "version": 3
   },
   "file_extension": ".py",
   "mimetype": "text/x-python",
   "name": "python",
   "nbconvert_exporter": "python",
   "pygments_lexer": "ipython3",
   "version": "3.7.12"
  },
  "vscode": {
   "interpreter": {
    "hash": "fd125518df18430d0936e52ecb7291e22b91211acfd52c6d5373b9b07bdacec8"
   }
  }
 },
 "nbformat": 4,
 "nbformat_minor": 2
}
