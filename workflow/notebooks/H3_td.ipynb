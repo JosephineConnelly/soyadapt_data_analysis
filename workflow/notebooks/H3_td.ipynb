{
 "cells": [
  {
   "attachments": {},
   "cell_type": "markdown",
   "metadata": {},
   "source": [
    "# 1. filter to prepare for TajimasD analysis \n"
   ]
  },
  {
   "cell_type": "code",
   "execution_count": null,
   "metadata": {
    "vscode": {
     "languageId": "shellscript"
    }
   },
   "outputs": [],
   "source": [
    "\n",
    "wgs_maf5=/Users/josephinelovemachine/soyadapt_data_analysis_with_start_data/resources/start_data/wgs_maf5.vcf.gz\n",
    "\n",
    "#bcftools query -l ${VCF_cca} > cca.txt\n",
    "#bcftools query -l ${VCF_sbpa} > sbpa.txt"
   ]
  },
  {
   "cell_type": "markdown",
   "metadata": {},
   "source": [
    "# 2. TajimasD calculation "
   ]
  },
  {
   "cell_type": "code",
   "execution_count": null,
   "metadata": {
    "vscode": {
     "languageId": "shellscript"
    }
   },
   "outputs": [],
   "source": [
    "#I will use vcftools to calculate tajimas D\n",
    "--TajimaD <integer>\n",
    "#Outputs Tajima’s D statistic in bins with size of the specified number. The output file has the suffix \".Tajima.D\".\n",
    "\n",
    "vcftools --gzvcf ${wgs_maf5} --keep cca.txt --TajimaD 1000 --out cca_10k_window\n",
    "vcftools --gzvcf ${wgs_maf5} --keep sbpa.txt --TajimaD 1000 --out cca_10k_window\n"
   ]
  }
 ],
 "metadata": {
  "kernelspec": {
   "display_name": "ppp_env_x86",
   "language": "python",
   "name": "python3"
  },
  "language_info": {
   "codemirror_mode": {
    "name": "ipython",
    "version": 3
   },
   "file_extension": ".py",
   "mimetype": "text/x-python",
   "name": "python",
   "nbconvert_exporter": "python",
   "pygments_lexer": "ipython3",
   "version": "3.7.12"
  },
  "vscode": {
   "interpreter": {
    "hash": "fd125518df18430d0936e52ecb7291e22b91211acfd52c6d5373b9b07bdacec8"
   }
  }
 },
 "nbformat": 4,
 "nbformat_minor": 2
}
