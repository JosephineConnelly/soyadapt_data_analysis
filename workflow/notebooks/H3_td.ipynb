{
 "cells": [
  {
   "attachments": {},
   "cell_type": "markdown",
   "metadata": {},
   "source": [
    "# 1. filter to prepare for TajimasD analysis \n"
   ]
  },
  {
   "cell_type": "code",
   "execution_count": null,
   "metadata": {
    "vscode": {
     "languageId": "shellscript"
    }
   },
   "outputs": [],
   "source": [
    "\n",
    "wgs_maf5=/Users/josephinelovemachine/soyadapt_data_analysis_with_start_data/resources/start_data/wgs_maf5.vcf.gz\n",
    "\n",
    "#bcftools query -l ${VCF_cca} > cca.txt\n",
    "#bcftools query -l ${VCF_sbpa} > sbpa.txt"
   ]
  },
  {
   "cell_type": "code",
   "execution_count": null,
   "metadata": {
    "vscode": {
     "languageId": "shellscript"
    }
   },
   "outputs": [],
   "source": [
    "# i realised the file im using that i filtered for 5% maf is with the scaffolds. ill remove them. \n",
    "\n",
    "vcftools --gzvcf ${wgs_maf5} --keep chr.txt --recode-INFO-all --stdout | gzip -c > output_filtered.vcf.gz\n",
    "#check *\n",
    "bcftools view -h output_filtered.vcf.gz | awk -F'ID=' '/^##contig=/{print $2}' | cut -d',' -f1 | sort | uniq\n",
    "#rename to same name as in the start\n",
    "\n",
    "mv output_filtered.vcf.gz wgs_maf5.vcf.gz\n"
   ]
  },
  {
   "cell_type": "markdown",
   "metadata": {},
   "source": [
    "# 2. TajimasD calculation 25K window"
   ]
  },
  {
   "cell_type": "code",
   "execution_count": null,
   "metadata": {
    "vscode": {
     "languageId": "shellscript"
    }
   },
   "outputs": [],
   "source": [
    "#I will use vcftools to calculate tajimas D\n",
    "--TajimaD <integer>\n",
    "#Outputs Tajima’s D statistic in bins with size of the specified number. The output file has the suffix \".Tajima.D\".\n",
    "\n",
    "vcftools --gzvcf ${wgs_maf5} --keep cca.txt --TajimaD 25000 --out cca_25k_window\n",
    "vcftools --gzvcf ${wgs_maf5} --keep sbpa.txt --TajimaD 25000 --out sbpa_25k_window\n",
    "\n",
    "#Parameters as interpreted:\n",
    "#\t--gzvcf /Users/josephinelovemachine/soyadapt_data_analysis_with_start_data/resources/start_data/wgs_maf5.vcf.gz\n",
    "#\t--keep cca.txt\n",
    "#\t--out cca_25k_window\n",
    "#\t--TajimaD 25000\n",
    "\n",
    "#After filtering, kept 409 out of 562 Individuals\n",
    "#After filtering, kept 153 out of 562 Individuals\n"
   ]
  }
 ],
 "metadata": {
  "kernelspec": {
   "display_name": "ppp_env_x86",
   "language": "python",
   "name": "python3"
  },
  "language_info": {
   "codemirror_mode": {
    "name": "ipython",
    "version": 3
   },
   "file_extension": ".py",
   "mimetype": "text/x-python",
   "name": "python",
   "nbconvert_exporter": "python",
   "pygments_lexer": "ipython3",
   "version": "3.7.12"
  },
  "vscode": {
   "interpreter": {
    "hash": "fd125518df18430d0936e52ecb7291e22b91211acfd52c6d5373b9b07bdacec8"
   }
  }
 },
 "nbformat": 4,
 "nbformat_minor": 2
}
