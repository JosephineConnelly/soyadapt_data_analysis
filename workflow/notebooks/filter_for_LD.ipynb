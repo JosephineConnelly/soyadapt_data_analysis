{
 "cells": [
  {
   "cell_type": "code",
   "execution_count": null,
   "metadata": {
    "vscode": {
     "languageId": "shellscript"
    }
   },
   "outputs": [],
   "source": []
  },
  {
   "attachments": {},
   "cell_type": "markdown",
   "metadata": {},
   "source": [
    "# 1. prepare WGS data for LD analysis \n",
    "remove 5% MAF and all fixed alleles\n",
    "\n",
    "\n",
    "\n",
    "\n",
    "\n"
   ]
  },
  {
   "cell_type": "code",
   "execution_count": null,
   "metadata": {
    "vscode": {
     "languageId": "shellscript"
    }
   },
   "outputs": [],
   "source": [
    "#test with snp data cuz its faster\n",
    "bcftools view --no-header -G -m2 -M2 --types snps snp_no006A007A.vcf.gz | wc -l \n",
    "# 35486\n",
    "bcftools view -i 'MAF<0.05' snp_no006A007A.vcf.gz | wc -l\n",
    "# 4914\n",
    "bcftools view -i 'AF>0.99' snp_no006A007A.vcf.gz | wc -l \n",
    "# 1318\n",
    "bcftools view -i 'AF==1' snp_no006A007A.vcf.gz | wc -l\n",
    "# 1318\n",
    "\n",
    "# Filter\n",
    "bcftools view -i 'AF >= 0.05 && AF < 0.99' snp_no006A007A.vcf.gz -Oz -o snp_for_LD.vcf.gz\n",
    "\n",
    "\n",
    "#test\n",
    "bcftools view --no-header -G -m2 -M2 --types snps snp_for_LD.vcf.gz | wc -l \n",
    "#32607\n",
    "#so something was filtered. \n",
    "\n",
    "#Lets look at the distribution of allele frequencies using VCFtools.\n",
    "vcftools --gzvcf snp_for_LD.vcf.gz --freq --out variant_counts_snp_for_LD\n",
    "vcftools --gzvcf snp_no006A007A.vcf.gz --freq --out variant_counts_snp_no006A007A\n",
    "\n",
    "# whats in the .frq file?\n",
    "head -n 1 variant_counts_snp_no006A007A.frq | awk '{ for (i=1; i<=NF; i++) printf(\"%d: %s\\n\", i, $i) }'\n",
    "1: CHROM\n",
    "2: POS\n",
    "3: N_ALLELES\n",
    "4: N_CHR\n",
    "5: {ALLELE:FREQ}\n",
    "\n",
    "\n",
    "#I go to R to plot the distribution of allele frequencies.\n",
    "\n"
   ]
  },
  {
   "attachments": {},
   "cell_type": "markdown",
   "metadata": {},
   "source": [
    "go to R"
   ]
  }
 ],
 "metadata": {
  "kernelspec": {
   "display_name": "ppp_env_x86",
   "language": "python",
   "name": "python3"
  },
  "language_info": {
   "codemirror_mode": {
    "name": "ipython",
    "version": 3
   },
   "file_extension": ".py",
   "mimetype": "text/x-python",
   "name": "python",
   "nbconvert_exporter": "python",
   "pygments_lexer": "ipython3",
   "version": "3.7.12"
  },
  "vscode": {
   "interpreter": {
    "hash": "fd125518df18430d0936e52ecb7291e22b91211acfd52c6d5373b9b07bdacec8"
   }
  }
 },
 "nbformat": 4,
 "nbformat_minor": 2
}
