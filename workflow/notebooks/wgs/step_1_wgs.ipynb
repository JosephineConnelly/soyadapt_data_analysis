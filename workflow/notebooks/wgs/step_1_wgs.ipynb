{
 "cells": [
  {
   "attachments": {},
   "cell_type": "markdown",
   "metadata": {},
   "source": [
    "# 1. prepare WGS data for analysis \n",
    "\n",
    "\n",
    "\n",
    "\n"
   ]
  },
  {
   "attachments": {},
   "cell_type": "markdown",
   "metadata": {},
   "source": [
    "remove accession with missing data\n",
    "and remove missing data over 5%\n",
    "and change chr names "
   ]
  },
  {
   "cell_type": "code",
   "execution_count": null,
   "metadata": {
    "vscode": {
     "languageId": "shellscript"
    }
   },
   "outputs": [],
   "source": [
    "\n",
    "# remove missing data 5% snps and rename chromosomes to numbers for R\n",
    "#make a file with accessions to be removed. /Users/josephinelovemachine/soyadapt_data_analysis/resources/start_data/metadata/remove_accessions.txt\n",
    "\n",
    "# remove the acessions from the latvian seedbank. 008A 009A 010A and 011A \n",
    "# remove 199A, 334A, 574A due to missing metadata like MG\n",
    "# Remove accessions with missing data > 5% (0.05) that is one sample: accession 064A\n",
    "\n",
    "# ~/soyadapt_data_analysis_with_start_data/resources/generated_data/intersect.vcf.gz\n",
    "# ~/soyadapt_data_analysis/resources/generated_data/meta_data/Gm01_01.txt\n",
    "bcftools filter -e \"F_MISSING>0.05\" cca_sbpa.vcf.gz -Ou | bcftools annotate --rename-chrs /Users/josephinelovemachine/soyadapt_data_analysis/resources/generated_data/meta_data/Gm01_1.txt -Ou | bcftools view -S ^/Users/josephinelovemachine/soyadapt_data_analysis/resources/start_data/metadata/remove_accessions.txt -Oz -o cca_sbpa_filtered.vcf.gz\n",
    " \n",
    "bcftools index cca_sbpa_filtered.vcf.gz"
   ]
  },
  {
   "attachments": {},
   "cell_type": "markdown",
   "metadata": {},
   "source": [
    "#before filtering snp count\n",
    "bcftools view --no-header -G -m 2 -M 2 --types snps cca_sbpa.vcf.gz | wc -l\n",
    "10000122\n",
    "#after filtering\n",
    "bcftools view --no-header -G -m 2 -M 2 --types snps cca_sbpa_filtered.vcf.gz | wc -l\n",
    "8533444\n",
    "bcftools query -l cca_sbpa_filtered.vcf.gz | wc -l\n",
    "#should be 564 and is\n"
   ]
  },
  {
   "attachments": {},
   "cell_type": "markdown",
   "metadata": {},
   "source": [
    "Id like to get some evauation numbers. \n",
    "like MAF 0.01 and 0.05 for respectivly the cca and the sbpa. \n",
    "what is the "
   ]
  },
  {
   "cell_type": "markdown",
   "metadata": {},
   "source": []
  },
  {
   "attachments": {},
   "cell_type": "markdown",
   "metadata": {},
   "source": [
    "go to R"
   ]
  }
 ],
 "metadata": {
  "kernelspec": {
   "display_name": "ppp_env_x86",
   "language": "python",
   "name": "python3"
  },
  "language_info": {
   "codemirror_mode": {
    "name": "ipython",
    "version": 3
   },
   "file_extension": ".py",
   "mimetype": "text/x-python",
   "name": "python",
   "nbconvert_exporter": "python",
   "pygments_lexer": "ipython3",
   "version": "3.7.12"
  },
  "vscode": {
   "interpreter": {
    "hash": "fd125518df18430d0936e52ecb7291e22b91211acfd52c6d5373b9b07bdacec8"
   }
  }
 },
 "nbformat": 4,
 "nbformat_minor": 2
}
