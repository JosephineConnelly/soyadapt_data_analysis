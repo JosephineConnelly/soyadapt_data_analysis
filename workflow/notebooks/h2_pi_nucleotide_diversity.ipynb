{
 "cells": [
  {
   "attachments": {},
   "cell_type": "markdown",
   "metadata": {},
   "source": [
    "\n",
    "# 6. calculate pi\n",
    "\n",
    "\n",
    "pi, nucleotide diversity\n",
    "\n"
   ]
  },
  {
   "cell_type": "code",
   "execution_count": null,
   "metadata": {
    "vscode": {
     "languageId": "plaintext"
    }
   },
   "outputs": [],
   "source": [
    "#i will use the 5%maf data \n",
    "then i will use vcf tools to calculate nucleotide diversity\n",
    "\n",
    "window pi/ site pi \n",
    "\n",
    "OUTPUT NUCLEOTIDE DIVERGENCE STATISTICS\n",
    "\n",
    "--site-pi\n",
    "\n",
    "Measures nucleotide divergency on a per-site basis. The output file has the suffix \".sites.pi\".\n",
    "\n",
    "--window-pi <integer>\n",
    "--window-pi-step <integer>\n",
    "\n",
    "Measures the nucleotide diversity in windows, with the number provided as the window size. The output file has the suffix \".windowed.pi\". The latter is an optional argument used to specify the step size in between windows."
   ]
  },
  {
   "cell_type": "code",
   "execution_count": null,
   "metadata": {
    "vscode": {
     "languageId": "shellscript"
    }
   },
   "outputs": [],
   "source": [
    "\n",
    "wgs_maf5=/Users/josephinelovemachine/soyadapt_data_analysis_with_start_data/resources/start_data/wgs_maf5.vcf.gz\n",
    "\n",
    "vcftools --gzvcf ${wgs_maf5} --fst-window-size --window-pi 1000 --out cca_pi10k.windowed.pi\n",
    "vcftools --gzvcf ${wgs_maf5} --keep sbpa.txt --window-pi 1000 --out sbpa_pi10k.windowed.pi"
   ]
  },
  {
   "cell_type": "markdown",
   "metadata": {},
   "source": [
    "# Go to R"
   ]
  }
 ],
 "metadata": {
  "kernelspec": {
   "display_name": "ppp_env_x86",
   "language": "python",
   "name": "python3"
  },
  "language_info": {
   "codemirror_mode": {
    "name": "ipython",
    "version": 3
   },
   "file_extension": ".py",
   "mimetype": "text/x-python",
   "name": "python",
   "nbconvert_exporter": "python",
   "pygments_lexer": "ipython3",
   "version": "3.7.12"
  },
  "vscode": {
   "interpreter": {
    "hash": "fd125518df18430d0936e52ecb7291e22b91211acfd52c6d5373b9b07bdacec8"
   }
  }
 },
 "nbformat": 4,
 "nbformat_minor": 2
}
