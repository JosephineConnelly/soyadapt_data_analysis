{
 "cells": [
  {
   "attachments": {},
   "cell_type": "markdown",
   "metadata": {},
   "source": [
    "\n",
    "# 6. calculate diversity\n",
    "\n",
    "Fst\n",
    "nucleotide diversity\n",
    "\n"
   ]
  },
  {
   "attachments": {},
   "cell_type": "markdown",
   "metadata": {},
   "source": [
    "## wgs"
   ]
  },
  {
   "attachments": {},
   "cell_type": "markdown",
   "metadata": {},
   "source": [
    "## statistics"
   ]
  },
  {
   "attachments": {},
   "cell_type": "markdown",
   "metadata": {},
   "source": [
    "then i will use vcf tools to calculate nucleotide diversity\n",
    "\n",
    "window pi/ site pi \n",
    "\n",
    "OUTPUT NUCLEOTIDE DIVERGENCE STATISTICS\n",
    "\n",
    "--site-pi\n",
    "\n",
    "Measures nucleotide divergency on a per-site basis. The output file has the suffix \".sites.pi\".\n",
    "\n",
    "--window-pi <integer>\n",
    "--window-pi-step <integer>\n",
    "\n",
    "Measures the nucleotide diversity in windows, with the number provided as the window size. The output file has the suffix \".windowed.pi\". The latter is an optional argument used to specify the step size in between windows.\n",
    "\n",
    "vcftools --gzvcf sbpa.vcf.gz --window-pi  10000 --out sbpa_pi10k.windowed.pi\n",
    "vcftools --gzvcf cca.vcf.gz --window-pi  10000 --out cca_pi10k.windowed.pi\n",
    "\n",
    "\n",
    "\n"
   ]
  }
 ],
 "metadata": {
  "kernelspec": {
   "display_name": "ppp_env_x86",
   "language": "python",
   "name": "python3"
  },
  "language_info": {
   "codemirror_mode": {
    "name": "ipython",
    "version": 3
   },
   "file_extension": ".py",
   "mimetype": "text/x-python",
   "name": "python",
   "nbconvert_exporter": "python",
   "pygments_lexer": "ipython3",
   "version": "3.7.12"
  },
  "vscode": {
   "interpreter": {
    "hash": "fd125518df18430d0936e52ecb7291e22b91211acfd52c6d5373b9b07bdacec8"
   }
  }
 },
 "nbformat": 4,
 "nbformat_minor": 2
}
