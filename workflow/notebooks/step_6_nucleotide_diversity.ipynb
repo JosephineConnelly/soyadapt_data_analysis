{
 "cells": [
  {
   "attachments": {},
   "cell_type": "markdown",
   "metadata": {},
   "source": [
    "\n",
    "# 6. calculate diversity\n",
    "\n",
    "Fst\n",
    "nucleotide diversity\n",
    "\n"
   ]
  },
  {
   "attachments": {},
   "cell_type": "markdown",
   "metadata": {},
   "source": [
    "## SNP"
   ]
  },
  {
   "attachments": {},
   "cell_type": "markdown",
   "metadata": {},
   "source": [
    "## statistics"
   ]
  },
  {
   "cell_type": "code",
   "execution_count": null,
   "metadata": {
    "vscode": {
     "languageId": "plaintext"
    }
   },
   "outputs": [],
   "source": [
    "Getting Fst population statistics\n",
    "\n",
    "VCFtools can also calculate Fst statistics between individuals of different populations. It is an estimate calculated in accordance to Weir and Cockerham’s 1984 paper. The user must supply text files that contain lists of individuals (one per line) that are members of each population. The function will work with multiple populations if multiple --weir-fst-pop arguments are used. The following example shows how to calculate a per-site Fst calculation with two populations. Other arguments can be used in conjunction with this function, such as --fst-window-size and --fst-window-step. --fst-window-size 1000 and --fst-window-step 500\n",
    "\n",
    "try:\n",
    "vcftools --gzvcf wgs.vcf.gz --weir-fst-pop sbpa.txt --weir-fst-pop cca.txt --fst-window-size 1000 --fst-window-step 500 --out sbpa_vs_cca\n",
    "\n"
   ]
  },
  {
   "attachments": {},
   "cell_type": "markdown",
   "metadata": {},
   "source": [
    "then i will use vcf tools to calculate nucleotide diversity\n",
    "\n",
    "window pi/ site pi \n",
    "\n",
    "vcftools --gzvcf sbpa.vcf.gz --window-pi  10000 --out sbpa_pi10k.windowed.pi\n",
    "vcftools --gzvcf cca.vcf.gz --window-pi  10000 --out cca_pi10k.windowed.pi\n",
    "\n",
    "\n",
    "\n",
    "#didnt to this:\n",
    "vcftools --vcf - --site-pi --positions SNP_list.txt --out nucleotide_diversity\n",
    "\n",
    "\n",
    "then i will use vcftools to calculate theta\n",
    "\n",
    "vcftools --gzvcf cca.vcf.gz --TajimaD 10000 --out cca_theta\n",
    "vcftools --gzvcf sbpa.vcf.gz --TajimaD 10000 --out sbpa_theta\n",
    "\n",
    "\n",
    "then i will use vcftools to calculate LD per chromosome \n",
    "\n",
    "vcftools --vcf - --hap-r2 --ld-window-bp 100000 --out LD\n",
    "\n",
    "then i will use vcftools to calculate fst\n",
    "\n",
    "vcftools --vcf - --weir-fst-pop cca.txt --weir-fst-pop sbpa.txt --out fst\n",
    "    \n"
   ]
  },
  {
   "attachments": {},
   "cell_type": "markdown",
   "metadata": {},
   "source": [
    "from https://vcftools.sourceforge.net/documentation.html#freq\n",
    "\n",
    "Getting allele frequency\n",
    "\n",
    "To determine the frequency of each allele over all individuals in a VCF file, the --freq argument is used.\n",
    "\n",
    "./vcftools --vcf input_data.vcf --freq --out output\n",
    "\n",
    "The output file will be written to output.frq.\n",
    "Getting sequencing depth information\n",
    "\n",
    "Another useful output function summarizes sequencing depth for each individual or for each site. Just like the allele frequency example above, this output function follows the same basic model.\n",
    "\n",
    "./vcftools --vcf input_data.vcf --depth -c > depth_summary.txt\n",
    "\n",
    "With VCFtools, you can use many combinations of filters and an output function. For example, to write out site-wise sequence depths only at sites that have no missing data, include the --max-missing argument.\n",
    "\n",
    "./vcftools --vcf input_data.vcf --site-depth --max-missing 1.0 --out site_depth_summary\n",
    "\n",
    "\n",
    "Getting linkage disequilibrium statistics\n",
    "\n",
    "Linkage disequilibrium between sites can be determined as well. This is accomplished using the --hap-r2, --geno-r2, or --geno-chisq arguments. Since the program must do pairwise site comparisons, this analysis can be time consuming, so it is recommended to filter the sites first or use one of the other options (--ld-window, --ld-window-bp or --min-r2) to reduce the number of comparisons. In this example, the VCFtools will only compare sites within 50,000 base pairs of one another.\n",
    "\n",
    "./vcftools --vcf input_data.vcf --hap-r2 --ld-window-bp 50000 --out ld_window_50000\n",
    "\n",
    "\n",
    "Getting Fst population statistics\n",
    "\n",
    "VCFtools can also calculate Fst statistics between individuals of different populations. It is an estimate calculated in accordance to Weir and Cockerham’s 1984 paper. The user must supply text files that contain lists of individuals (one per line) that are members of each population. The function will work with multiple populations if multiple --weir-fst-pop arguments are used. The following example shows how to calculate a per-site Fst calculation with two populations. Other arguments can be used in conjunction with this function, such as --fst-window-size and --fst-window-step.\n",
    "\n",
    "./vcftools --vcf input_data.vcf --weir-fst-pop population_1.txt --weir-fst-pop population_2.txt --out pop1_vs_pop2"
   ]
  }
 ],
 "metadata": {
  "kernelspec": {
   "display_name": "ppp_env_x86",
   "language": "python",
   "name": "python3"
  },
  "language_info": {
   "codemirror_mode": {
    "name": "ipython",
    "version": 3
   },
   "file_extension": ".py",
   "mimetype": "text/x-python",
   "name": "python",
   "nbconvert_exporter": "python",
   "pygments_lexer": "ipython3",
   "version": "3.7.12"
  },
  "vscode": {
   "interpreter": {
    "hash": "fd125518df18430d0936e52ecb7291e22b91211acfd52c6d5373b9b07bdacec8"
   }
  }
 },
 "nbformat": 4,
 "nbformat_minor": 2
}
